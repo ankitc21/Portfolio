{
 "cells": [
  {
   "cell_type": "code",
   "execution_count": 93,
   "id": "a0cfe9a0",
   "metadata": {},
   "outputs": [],
   "source": [
    "import matplotlib.pyplot as plt\n",
    "import numpy as np\n",
    "import pandas as pd\n",
    "import seaborn as sns\n",
    "df=pd.read_csv(r'C:\\Users\\ankit\\Desktop\\Projects\\Portfolio\\Diabetes\\Dataset of Diabetes .csv')"
   ]
  },
  {
   "cell_type": "code",
   "execution_count": 94,
   "id": "6eb29113",
   "metadata": {},
   "outputs": [
    {
     "name": "stdout",
     "output_type": "stream",
     "text": [
      "<class 'pandas.core.frame.DataFrame'>\n",
      "RangeIndex: 1000 entries, 0 to 999\n",
      "Data columns (total 14 columns):\n",
      " #   Column     Non-Null Count  Dtype  \n",
      "---  ------     --------------  -----  \n",
      " 0   ID         1000 non-null   int64  \n",
      " 1   No_Pation  1000 non-null   int64  \n",
      " 2   Gender     1000 non-null   object \n",
      " 3   AGE        1000 non-null   int64  \n",
      " 4   Urea       1000 non-null   float64\n",
      " 5   Cr         1000 non-null   int64  \n",
      " 6   HbA1c      1000 non-null   float64\n",
      " 7   Chol       1000 non-null   float64\n",
      " 8   TG         1000 non-null   float64\n",
      " 9   HDL        1000 non-null   float64\n",
      " 10  LDL        1000 non-null   float64\n",
      " 11  VLDL       1000 non-null   float64\n",
      " 12  BMI        1000 non-null   float64\n",
      " 13  CLASS      1000 non-null   object \n",
      "dtypes: float64(8), int64(4), object(2)\n",
      "memory usage: 109.5+ KB\n"
     ]
    }
   ],
   "source": [
    "df.info()"
   ]
  },
  {
   "cell_type": "code",
   "execution_count": 95,
   "id": "7214d238",
   "metadata": {},
   "outputs": [
    {
     "data": {
      "application/vnd.microsoft.datawrangler.viewer.v0+json": {
       "columns": [
        {
         "name": "index",
         "rawType": "object",
         "type": "string"
        },
        {
         "name": "ID",
         "rawType": "float64",
         "type": "float"
        },
        {
         "name": "No_Pation",
         "rawType": "float64",
         "type": "float"
        },
        {
         "name": "AGE",
         "rawType": "float64",
         "type": "float"
        },
        {
         "name": "Urea",
         "rawType": "float64",
         "type": "float"
        },
        {
         "name": "Cr",
         "rawType": "float64",
         "type": "float"
        },
        {
         "name": "HbA1c",
         "rawType": "float64",
         "type": "float"
        },
        {
         "name": "Chol",
         "rawType": "float64",
         "type": "float"
        },
        {
         "name": "TG",
         "rawType": "float64",
         "type": "float"
        },
        {
         "name": "HDL",
         "rawType": "float64",
         "type": "float"
        },
        {
         "name": "LDL",
         "rawType": "float64",
         "type": "float"
        },
        {
         "name": "VLDL",
         "rawType": "float64",
         "type": "float"
        },
        {
         "name": "BMI",
         "rawType": "float64",
         "type": "float"
        }
       ],
       "ref": "51c1d9bb-008f-434e-8511-e3b83ef42494",
       "rows": [
        [
         "count",
         "1000.0",
         "1000.0",
         "1000.0",
         "1000.0",
         "1000.0",
         "1000.0",
         "1000.0",
         "1000.0",
         "1000.0",
         "1000.0",
         "1000.0",
         "1000.0"
        ],
        [
         "mean",
         "340.5",
         "270551.408",
         "53.528",
         "5.1247430000000005",
         "68.943",
         "8.28116",
         "4.86282",
         "2.34961",
         "1.20475",
         "2.60979",
         "1.8546999999999998",
         "29.578020000000002"
        ],
        [
         "std",
         "240.39767270304645",
         "3380757.8219730556",
         "8.799241026511472",
         "2.9351654415245694",
         "59.98474740232654",
         "2.534003122773574",
         "1.301737518921602",
         "1.40117602111303",
         "0.6604135701085976",
         "1.1151017477377605",
         "3.663599305310267",
         "4.962388112126598"
        ],
        [
         "min",
         "1.0",
         "123.0",
         "20.0",
         "0.5",
         "6.0",
         "0.9",
         "0.0",
         "0.3",
         "0.2",
         "0.3",
         "0.1",
         "19.0"
        ],
        [
         "25%",
         "125.75",
         "24063.75",
         "51.0",
         "3.7",
         "48.0",
         "6.5",
         "4.0",
         "1.5",
         "0.9",
         "1.8",
         "0.7",
         "26.0"
        ],
        [
         "50%",
         "300.5",
         "34395.5",
         "55.0",
         "4.6",
         "60.0",
         "8.0",
         "4.8",
         "2.0",
         "1.1",
         "2.5",
         "0.9",
         "30.0"
        ],
        [
         "75%",
         "550.25",
         "45384.25",
         "59.0",
         "5.7",
         "73.0",
         "10.2",
         "5.6",
         "2.9",
         "1.3",
         "3.3",
         "1.5",
         "33.0"
        ],
        [
         "max",
         "800.0",
         "75435657.0",
         "79.0",
         "38.9",
         "800.0",
         "16.0",
         "10.3",
         "13.8",
         "9.9",
         "9.9",
         "35.0",
         "47.75"
        ]
       ],
       "shape": {
        "columns": 12,
        "rows": 8
       }
      },
      "text/html": [
       "<div>\n",
       "<style scoped>\n",
       "    .dataframe tbody tr th:only-of-type {\n",
       "        vertical-align: middle;\n",
       "    }\n",
       "\n",
       "    .dataframe tbody tr th {\n",
       "        vertical-align: top;\n",
       "    }\n",
       "\n",
       "    .dataframe thead th {\n",
       "        text-align: right;\n",
       "    }\n",
       "</style>\n",
       "<table border=\"1\" class=\"dataframe\">\n",
       "  <thead>\n",
       "    <tr style=\"text-align: right;\">\n",
       "      <th></th>\n",
       "      <th>ID</th>\n",
       "      <th>No_Pation</th>\n",
       "      <th>AGE</th>\n",
       "      <th>Urea</th>\n",
       "      <th>Cr</th>\n",
       "      <th>HbA1c</th>\n",
       "      <th>Chol</th>\n",
       "      <th>TG</th>\n",
       "      <th>HDL</th>\n",
       "      <th>LDL</th>\n",
       "      <th>VLDL</th>\n",
       "      <th>BMI</th>\n",
       "    </tr>\n",
       "  </thead>\n",
       "  <tbody>\n",
       "    <tr>\n",
       "      <th>count</th>\n",
       "      <td>1000.000000</td>\n",
       "      <td>1.000000e+03</td>\n",
       "      <td>1000.000000</td>\n",
       "      <td>1000.000000</td>\n",
       "      <td>1000.000000</td>\n",
       "      <td>1000.000000</td>\n",
       "      <td>1000.000000</td>\n",
       "      <td>1000.000000</td>\n",
       "      <td>1000.000000</td>\n",
       "      <td>1000.000000</td>\n",
       "      <td>1000.000000</td>\n",
       "      <td>1000.000000</td>\n",
       "    </tr>\n",
       "    <tr>\n",
       "      <th>mean</th>\n",
       "      <td>340.500000</td>\n",
       "      <td>2.705514e+05</td>\n",
       "      <td>53.528000</td>\n",
       "      <td>5.124743</td>\n",
       "      <td>68.943000</td>\n",
       "      <td>8.281160</td>\n",
       "      <td>4.862820</td>\n",
       "      <td>2.349610</td>\n",
       "      <td>1.204750</td>\n",
       "      <td>2.609790</td>\n",
       "      <td>1.854700</td>\n",
       "      <td>29.578020</td>\n",
       "    </tr>\n",
       "    <tr>\n",
       "      <th>std</th>\n",
       "      <td>240.397673</td>\n",
       "      <td>3.380758e+06</td>\n",
       "      <td>8.799241</td>\n",
       "      <td>2.935165</td>\n",
       "      <td>59.984747</td>\n",
       "      <td>2.534003</td>\n",
       "      <td>1.301738</td>\n",
       "      <td>1.401176</td>\n",
       "      <td>0.660414</td>\n",
       "      <td>1.115102</td>\n",
       "      <td>3.663599</td>\n",
       "      <td>4.962388</td>\n",
       "    </tr>\n",
       "    <tr>\n",
       "      <th>min</th>\n",
       "      <td>1.000000</td>\n",
       "      <td>1.230000e+02</td>\n",
       "      <td>20.000000</td>\n",
       "      <td>0.500000</td>\n",
       "      <td>6.000000</td>\n",
       "      <td>0.900000</td>\n",
       "      <td>0.000000</td>\n",
       "      <td>0.300000</td>\n",
       "      <td>0.200000</td>\n",
       "      <td>0.300000</td>\n",
       "      <td>0.100000</td>\n",
       "      <td>19.000000</td>\n",
       "    </tr>\n",
       "    <tr>\n",
       "      <th>25%</th>\n",
       "      <td>125.750000</td>\n",
       "      <td>2.406375e+04</td>\n",
       "      <td>51.000000</td>\n",
       "      <td>3.700000</td>\n",
       "      <td>48.000000</td>\n",
       "      <td>6.500000</td>\n",
       "      <td>4.000000</td>\n",
       "      <td>1.500000</td>\n",
       "      <td>0.900000</td>\n",
       "      <td>1.800000</td>\n",
       "      <td>0.700000</td>\n",
       "      <td>26.000000</td>\n",
       "    </tr>\n",
       "    <tr>\n",
       "      <th>50%</th>\n",
       "      <td>300.500000</td>\n",
       "      <td>3.439550e+04</td>\n",
       "      <td>55.000000</td>\n",
       "      <td>4.600000</td>\n",
       "      <td>60.000000</td>\n",
       "      <td>8.000000</td>\n",
       "      <td>4.800000</td>\n",
       "      <td>2.000000</td>\n",
       "      <td>1.100000</td>\n",
       "      <td>2.500000</td>\n",
       "      <td>0.900000</td>\n",
       "      <td>30.000000</td>\n",
       "    </tr>\n",
       "    <tr>\n",
       "      <th>75%</th>\n",
       "      <td>550.250000</td>\n",
       "      <td>4.538425e+04</td>\n",
       "      <td>59.000000</td>\n",
       "      <td>5.700000</td>\n",
       "      <td>73.000000</td>\n",
       "      <td>10.200000</td>\n",
       "      <td>5.600000</td>\n",
       "      <td>2.900000</td>\n",
       "      <td>1.300000</td>\n",
       "      <td>3.300000</td>\n",
       "      <td>1.500000</td>\n",
       "      <td>33.000000</td>\n",
       "    </tr>\n",
       "    <tr>\n",
       "      <th>max</th>\n",
       "      <td>800.000000</td>\n",
       "      <td>7.543566e+07</td>\n",
       "      <td>79.000000</td>\n",
       "      <td>38.900000</td>\n",
       "      <td>800.000000</td>\n",
       "      <td>16.000000</td>\n",
       "      <td>10.300000</td>\n",
       "      <td>13.800000</td>\n",
       "      <td>9.900000</td>\n",
       "      <td>9.900000</td>\n",
       "      <td>35.000000</td>\n",
       "      <td>47.750000</td>\n",
       "    </tr>\n",
       "  </tbody>\n",
       "</table>\n",
       "</div>"
      ],
      "text/plain": [
       "                ID     No_Pation          AGE         Urea           Cr  \\\n",
       "count  1000.000000  1.000000e+03  1000.000000  1000.000000  1000.000000   \n",
       "mean    340.500000  2.705514e+05    53.528000     5.124743    68.943000   \n",
       "std     240.397673  3.380758e+06     8.799241     2.935165    59.984747   \n",
       "min       1.000000  1.230000e+02    20.000000     0.500000     6.000000   \n",
       "25%     125.750000  2.406375e+04    51.000000     3.700000    48.000000   \n",
       "50%     300.500000  3.439550e+04    55.000000     4.600000    60.000000   \n",
       "75%     550.250000  4.538425e+04    59.000000     5.700000    73.000000   \n",
       "max     800.000000  7.543566e+07    79.000000    38.900000   800.000000   \n",
       "\n",
       "             HbA1c         Chol           TG          HDL          LDL  \\\n",
       "count  1000.000000  1000.000000  1000.000000  1000.000000  1000.000000   \n",
       "mean      8.281160     4.862820     2.349610     1.204750     2.609790   \n",
       "std       2.534003     1.301738     1.401176     0.660414     1.115102   \n",
       "min       0.900000     0.000000     0.300000     0.200000     0.300000   \n",
       "25%       6.500000     4.000000     1.500000     0.900000     1.800000   \n",
       "50%       8.000000     4.800000     2.000000     1.100000     2.500000   \n",
       "75%      10.200000     5.600000     2.900000     1.300000     3.300000   \n",
       "max      16.000000    10.300000    13.800000     9.900000     9.900000   \n",
       "\n",
       "              VLDL          BMI  \n",
       "count  1000.000000  1000.000000  \n",
       "mean      1.854700    29.578020  \n",
       "std       3.663599     4.962388  \n",
       "min       0.100000    19.000000  \n",
       "25%       0.700000    26.000000  \n",
       "50%       0.900000    30.000000  \n",
       "75%       1.500000    33.000000  \n",
       "max      35.000000    47.750000  "
      ]
     },
     "execution_count": 95,
     "metadata": {},
     "output_type": "execute_result"
    }
   ],
   "source": [
    "df.describe()"
   ]
  },
  {
   "cell_type": "code",
   "execution_count": 96,
   "id": "17de757e",
   "metadata": {},
   "outputs": [
    {
     "data": {
      "application/vnd.microsoft.datawrangler.viewer.v0+json": {
       "columns": [
        {
         "name": "('ID', 'No_Pation', 'Gender', 'AGE', 'Urea', 'Cr', 'HbA1c', 'Chol', 'TG', 'HDL', 'LDL', 'VLDL', 'BMI', 'CLASS')",
         "rawType": "object",
         "type": "unknown"
        },
        {
         "name": "count",
         "rawType": "int64",
         "type": "integer"
        }
       ],
       "ref": "d93e85c8-dc5b-4fe4-ab1d-9515250e7b1b",
       "rows": [
        [
         "(np.False_, np.False_, np.False_, np.False_, np.False_, np.False_, np.False_, np.False_, np.False_, np.False_, np.False_, np.False_, np.False_, np.False_)",
         "1000"
        ]
       ],
       "shape": {
        "columns": 1,
        "rows": 1
       }
      },
      "text/plain": [
       "ID     No_Pation  Gender  AGE    Urea   Cr     HbA1c  Chol   TG     HDL    LDL    VLDL   BMI    CLASS\n",
       "False  False      False   False  False  False  False  False  False  False  False  False  False  False    1000\n",
       "Name: count, dtype: int64"
      ]
     },
     "execution_count": 96,
     "metadata": {},
     "output_type": "execute_result"
    }
   ],
   "source": [
    "df.isnull().value_counts()"
   ]
  },
  {
   "cell_type": "code",
   "execution_count": 97,
   "id": "9ad1ab10",
   "metadata": {},
   "outputs": [
    {
     "data": {
      "text/plain": [
       "Index(['ID', 'No_Pation', 'Gender', 'AGE', 'Urea', 'Cr', 'HbA1c', 'Chol', 'TG',\n",
       "       'HDL', 'LDL', 'VLDL', 'BMI', 'CLASS'],\n",
       "      dtype='object')"
      ]
     },
     "execution_count": 97,
     "metadata": {},
     "output_type": "execute_result"
    }
   ],
   "source": [
    "df.columns"
   ]
  },
  {
   "cell_type": "code",
   "execution_count": 98,
   "id": "7a43dae5",
   "metadata": {},
   "outputs": [
    {
     "data": {
      "application/vnd.microsoft.datawrangler.viewer.v0+json": {
       "columns": [
        {
         "name": "index",
         "rawType": "int64",
         "type": "integer"
        },
        {
         "name": "ID",
         "rawType": "int64",
         "type": "integer"
        },
        {
         "name": "No_Pation",
         "rawType": "int64",
         "type": "integer"
        },
        {
         "name": "Gender",
         "rawType": "object",
         "type": "string"
        },
        {
         "name": "AGE",
         "rawType": "int64",
         "type": "integer"
        },
        {
         "name": "Urea",
         "rawType": "float64",
         "type": "float"
        },
        {
         "name": "Cr",
         "rawType": "int64",
         "type": "integer"
        },
        {
         "name": "HbA1c",
         "rawType": "float64",
         "type": "float"
        },
        {
         "name": "Chol",
         "rawType": "float64",
         "type": "float"
        },
        {
         "name": "TG",
         "rawType": "float64",
         "type": "float"
        },
        {
         "name": "HDL",
         "rawType": "float64",
         "type": "float"
        },
        {
         "name": "LDL",
         "rawType": "float64",
         "type": "float"
        },
        {
         "name": "VLDL",
         "rawType": "float64",
         "type": "float"
        },
        {
         "name": "BMI",
         "rawType": "float64",
         "type": "float"
        },
        {
         "name": "CLASS",
         "rawType": "object",
         "type": "string"
        }
       ],
       "ref": "4ae64cb2-2ae9-42c8-a85c-1c60c981be6e",
       "rows": [
        [
         "0",
         "502",
         "17975",
         "F",
         "50",
         "4.7",
         "46",
         "4.9",
         "4.2",
         "0.9",
         "2.4",
         "1.4",
         "0.5",
         "24.0",
         "N"
        ],
        [
         "1",
         "735",
         "34221",
         "M",
         "26",
         "4.5",
         "62",
         "4.9",
         "3.7",
         "1.4",
         "1.1",
         "2.1",
         "0.6",
         "23.0",
         "N"
        ],
        [
         "2",
         "420",
         "47975",
         "F",
         "50",
         "4.7",
         "46",
         "4.9",
         "4.2",
         "0.9",
         "2.4",
         "1.4",
         "0.5",
         "24.0",
         "N"
        ],
        [
         "3",
         "680",
         "87656",
         "F",
         "50",
         "4.7",
         "46",
         "4.9",
         "4.2",
         "0.9",
         "2.4",
         "1.4",
         "0.5",
         "24.0",
         "N"
        ],
        [
         "4",
         "504",
         "34223",
         "M",
         "33",
         "7.1",
         "46",
         "4.9",
         "4.9",
         "1.0",
         "0.8",
         "2.0",
         "0.4",
         "21.0",
         "N"
        ]
       ],
       "shape": {
        "columns": 14,
        "rows": 5
       }
      },
      "text/html": [
       "<div>\n",
       "<style scoped>\n",
       "    .dataframe tbody tr th:only-of-type {\n",
       "        vertical-align: middle;\n",
       "    }\n",
       "\n",
       "    .dataframe tbody tr th {\n",
       "        vertical-align: top;\n",
       "    }\n",
       "\n",
       "    .dataframe thead th {\n",
       "        text-align: right;\n",
       "    }\n",
       "</style>\n",
       "<table border=\"1\" class=\"dataframe\">\n",
       "  <thead>\n",
       "    <tr style=\"text-align: right;\">\n",
       "      <th></th>\n",
       "      <th>ID</th>\n",
       "      <th>No_Pation</th>\n",
       "      <th>Gender</th>\n",
       "      <th>AGE</th>\n",
       "      <th>Urea</th>\n",
       "      <th>Cr</th>\n",
       "      <th>HbA1c</th>\n",
       "      <th>Chol</th>\n",
       "      <th>TG</th>\n",
       "      <th>HDL</th>\n",
       "      <th>LDL</th>\n",
       "      <th>VLDL</th>\n",
       "      <th>BMI</th>\n",
       "      <th>CLASS</th>\n",
       "    </tr>\n",
       "  </thead>\n",
       "  <tbody>\n",
       "    <tr>\n",
       "      <th>0</th>\n",
       "      <td>502</td>\n",
       "      <td>17975</td>\n",
       "      <td>F</td>\n",
       "      <td>50</td>\n",
       "      <td>4.7</td>\n",
       "      <td>46</td>\n",
       "      <td>4.9</td>\n",
       "      <td>4.2</td>\n",
       "      <td>0.9</td>\n",
       "      <td>2.4</td>\n",
       "      <td>1.4</td>\n",
       "      <td>0.5</td>\n",
       "      <td>24.0</td>\n",
       "      <td>N</td>\n",
       "    </tr>\n",
       "    <tr>\n",
       "      <th>1</th>\n",
       "      <td>735</td>\n",
       "      <td>34221</td>\n",
       "      <td>M</td>\n",
       "      <td>26</td>\n",
       "      <td>4.5</td>\n",
       "      <td>62</td>\n",
       "      <td>4.9</td>\n",
       "      <td>3.7</td>\n",
       "      <td>1.4</td>\n",
       "      <td>1.1</td>\n",
       "      <td>2.1</td>\n",
       "      <td>0.6</td>\n",
       "      <td>23.0</td>\n",
       "      <td>N</td>\n",
       "    </tr>\n",
       "    <tr>\n",
       "      <th>2</th>\n",
       "      <td>420</td>\n",
       "      <td>47975</td>\n",
       "      <td>F</td>\n",
       "      <td>50</td>\n",
       "      <td>4.7</td>\n",
       "      <td>46</td>\n",
       "      <td>4.9</td>\n",
       "      <td>4.2</td>\n",
       "      <td>0.9</td>\n",
       "      <td>2.4</td>\n",
       "      <td>1.4</td>\n",
       "      <td>0.5</td>\n",
       "      <td>24.0</td>\n",
       "      <td>N</td>\n",
       "    </tr>\n",
       "    <tr>\n",
       "      <th>3</th>\n",
       "      <td>680</td>\n",
       "      <td>87656</td>\n",
       "      <td>F</td>\n",
       "      <td>50</td>\n",
       "      <td>4.7</td>\n",
       "      <td>46</td>\n",
       "      <td>4.9</td>\n",
       "      <td>4.2</td>\n",
       "      <td>0.9</td>\n",
       "      <td>2.4</td>\n",
       "      <td>1.4</td>\n",
       "      <td>0.5</td>\n",
       "      <td>24.0</td>\n",
       "      <td>N</td>\n",
       "    </tr>\n",
       "    <tr>\n",
       "      <th>4</th>\n",
       "      <td>504</td>\n",
       "      <td>34223</td>\n",
       "      <td>M</td>\n",
       "      <td>33</td>\n",
       "      <td>7.1</td>\n",
       "      <td>46</td>\n",
       "      <td>4.9</td>\n",
       "      <td>4.9</td>\n",
       "      <td>1.0</td>\n",
       "      <td>0.8</td>\n",
       "      <td>2.0</td>\n",
       "      <td>0.4</td>\n",
       "      <td>21.0</td>\n",
       "      <td>N</td>\n",
       "    </tr>\n",
       "  </tbody>\n",
       "</table>\n",
       "</div>"
      ],
      "text/plain": [
       "    ID  No_Pation Gender  AGE  Urea  Cr  HbA1c  Chol   TG  HDL  LDL  VLDL  \\\n",
       "0  502      17975      F   50   4.7  46    4.9   4.2  0.9  2.4  1.4   0.5   \n",
       "1  735      34221      M   26   4.5  62    4.9   3.7  1.4  1.1  2.1   0.6   \n",
       "2  420      47975      F   50   4.7  46    4.9   4.2  0.9  2.4  1.4   0.5   \n",
       "3  680      87656      F   50   4.7  46    4.9   4.2  0.9  2.4  1.4   0.5   \n",
       "4  504      34223      M   33   7.1  46    4.9   4.9  1.0  0.8  2.0   0.4   \n",
       "\n",
       "    BMI CLASS  \n",
       "0  24.0     N  \n",
       "1  23.0     N  \n",
       "2  24.0     N  \n",
       "3  24.0     N  \n",
       "4  21.0     N  "
      ]
     },
     "execution_count": 98,
     "metadata": {},
     "output_type": "execute_result"
    }
   ],
   "source": [
    "df.head()"
   ]
  },
  {
   "cell_type": "code",
   "execution_count": 99,
   "id": "4098d7a0",
   "metadata": {},
   "outputs": [
    {
     "data": {
      "text/plain": [
       "array(['F', 'M', 'f'], dtype=object)"
      ]
     },
     "execution_count": 99,
     "metadata": {},
     "output_type": "execute_result"
    }
   ],
   "source": [
    "df.Gender.unique()"
   ]
  },
  {
   "cell_type": "code",
   "execution_count": 100,
   "id": "b744560f",
   "metadata": {},
   "outputs": [],
   "source": [
    "df['Gender'] = df['Gender'].replace('f', 'F')"
   ]
  },
  {
   "cell_type": "code",
   "execution_count": 101,
   "id": "154c533b",
   "metadata": {},
   "outputs": [
    {
     "data": {
      "application/vnd.microsoft.datawrangler.viewer.v0+json": {
       "columns": [
        {
         "name": "Gender",
         "rawType": "object",
         "type": "string"
        },
        {
         "name": "count",
         "rawType": "int64",
         "type": "integer"
        }
       ],
       "ref": "716518a2-d975-4a02-ad0a-2e0ccdb4d8b1",
       "rows": [
        [
         "M",
         "565"
        ],
        [
         "F",
         "435"
        ]
       ],
       "shape": {
        "columns": 1,
        "rows": 2
       }
      },
      "text/plain": [
       "Gender\n",
       "M    565\n",
       "F    435\n",
       "Name: count, dtype: int64"
      ]
     },
     "execution_count": 101,
     "metadata": {},
     "output_type": "execute_result"
    }
   ],
   "source": [
    "df.Gender.value_counts()"
   ]
  },
  {
   "cell_type": "code",
   "execution_count": 102,
   "id": "48823363",
   "metadata": {},
   "outputs": [
    {
     "name": "stderr",
     "output_type": "stream",
     "text": [
      "C:\\Users\\ankit\\AppData\\Local\\Temp\\ipykernel_10908\\4116715182.py:2: FutureWarning: Downcasting behavior in `replace` is deprecated and will be removed in a future version. To retain the old behavior, explicitly call `result.infer_objects(copy=False)`. To opt-in to the future behavior, set `pd.set_option('future.no_silent_downcasting', True)`\n",
      "  df['Gender']=df['Gender'].replace('F',0)\n"
     ]
    }
   ],
   "source": [
    "df['Gender']=df['Gender'].replace('M',1)\n",
    "df['Gender']=df['Gender'].replace('F',0)"
   ]
  },
  {
   "cell_type": "code",
   "execution_count": 103,
   "id": "783f0e68",
   "metadata": {},
   "outputs": [
    {
     "data": {
      "application/vnd.microsoft.datawrangler.viewer.v0+json": {
       "columns": [
        {
         "name": "Gender",
         "rawType": "int64",
         "type": "integer"
        },
        {
         "name": "count",
         "rawType": "int64",
         "type": "integer"
        }
       ],
       "ref": "ed9d1f99-91d4-4f8f-80d1-d967bb0869af",
       "rows": [
        [
         "1",
         "565"
        ],
        [
         "0",
         "435"
        ]
       ],
       "shape": {
        "columns": 1,
        "rows": 2
       }
      },
      "text/plain": [
       "Gender\n",
       "1    565\n",
       "0    435\n",
       "Name: count, dtype: int64"
      ]
     },
     "execution_count": 103,
     "metadata": {},
     "output_type": "execute_result"
    }
   ],
   "source": [
    "df.Gender.value_counts()"
   ]
  },
  {
   "cell_type": "code",
   "execution_count": 104,
   "id": "8c592948",
   "metadata": {},
   "outputs": [
    {
     "name": "stdout",
     "output_type": "stream",
     "text": [
      "<class 'pandas.core.frame.DataFrame'>\n",
      "RangeIndex: 1000 entries, 0 to 999\n",
      "Data columns (total 14 columns):\n",
      " #   Column     Non-Null Count  Dtype  \n",
      "---  ------     --------------  -----  \n",
      " 0   ID         1000 non-null   int64  \n",
      " 1   No_Pation  1000 non-null   int64  \n",
      " 2   Gender     1000 non-null   int64  \n",
      " 3   AGE        1000 non-null   int64  \n",
      " 4   Urea       1000 non-null   float64\n",
      " 5   Cr         1000 non-null   int64  \n",
      " 6   HbA1c      1000 non-null   float64\n",
      " 7   Chol       1000 non-null   float64\n",
      " 8   TG         1000 non-null   float64\n",
      " 9   HDL        1000 non-null   float64\n",
      " 10  LDL        1000 non-null   float64\n",
      " 11  VLDL       1000 non-null   float64\n",
      " 12  BMI        1000 non-null   float64\n",
      " 13  CLASS      1000 non-null   object \n",
      "dtypes: float64(8), int64(5), object(1)\n",
      "memory usage: 109.5+ KB\n"
     ]
    }
   ],
   "source": [
    "df.info()"
   ]
  },
  {
   "cell_type": "code",
   "execution_count": 105,
   "id": "6edfc200",
   "metadata": {},
   "outputs": [
    {
     "data": {
      "application/vnd.microsoft.datawrangler.viewer.v0+json": {
       "columns": [
        {
         "name": "CLASS",
         "rawType": "object",
         "type": "string"
        },
        {
         "name": "count",
         "rawType": "int64",
         "type": "integer"
        }
       ],
       "ref": "4f695cae-0dfa-41a1-96c9-12a6c6aa0cf6",
       "rows": [
        [
         "Y",
         "840"
        ],
        [
         "N",
         "102"
        ],
        [
         "P",
         "53"
        ],
        [
         "Y ",
         "4"
        ],
        [
         "N ",
         "1"
        ]
       ],
       "shape": {
        "columns": 1,
        "rows": 5
       }
      },
      "text/plain": [
       "CLASS\n",
       "Y     840\n",
       "N     102\n",
       "P      53\n",
       "Y       4\n",
       "N       1\n",
       "Name: count, dtype: int64"
      ]
     },
     "execution_count": 105,
     "metadata": {},
     "output_type": "execute_result"
    }
   ],
   "source": [
    "df.CLASS.value_counts()"
   ]
  },
  {
   "cell_type": "code",
   "execution_count": 106,
   "id": "2561d490",
   "metadata": {},
   "outputs": [
    {
     "data": {
      "text/plain": [
       "array(['N', 'N ', 'P', 'Y', 'Y '], dtype=object)"
      ]
     },
     "execution_count": 106,
     "metadata": {},
     "output_type": "execute_result"
    }
   ],
   "source": [
    "df.CLASS.unique()"
   ]
  },
  {
   "cell_type": "code",
   "execution_count": 165,
   "id": "ef5b236a",
   "metadata": {},
   "outputs": [],
   "source": [
    "df['CLASS']=df['CLASS'].replace('N ','N')"
   ]
  },
  {
   "cell_type": "code",
   "execution_count": 230,
   "id": "a888654e",
   "metadata": {},
   "outputs": [],
   "source": [
    "df['CLASS']=df['CLASS'].replace('Y ','Y')"
   ]
  },
  {
   "cell_type": "code",
   "execution_count": 231,
   "id": "9afffaf2",
   "metadata": {},
   "outputs": [
    {
     "data": {
      "text/plain": [
       "array(['0', '1', '2'], dtype=object)"
      ]
     },
     "execution_count": 231,
     "metadata": {},
     "output_type": "execute_result"
    }
   ],
   "source": [
    "df.CLASS.unique()"
   ]
  },
  {
   "cell_type": "code",
   "execution_count": 232,
   "id": "7e107602",
   "metadata": {},
   "outputs": [
    {
     "data": {
      "application/vnd.microsoft.datawrangler.viewer.v0+json": {
       "columns": [
        {
         "name": "CLASS",
         "rawType": "object",
         "type": "string"
        },
        {
         "name": "count",
         "rawType": "int64",
         "type": "integer"
        }
       ],
       "ref": "dc8a5e20-188f-4a9e-b850-d430a595db01",
       "rows": [
        [
         "2",
         "844"
        ],
        [
         "0",
         "103"
        ],
        [
         "1",
         "53"
        ]
       ],
       "shape": {
        "columns": 1,
        "rows": 3
       }
      },
      "text/plain": [
       "CLASS\n",
       "2    844\n",
       "0    103\n",
       "1     53\n",
       "Name: count, dtype: int64"
      ]
     },
     "execution_count": 232,
     "metadata": {},
     "output_type": "execute_result"
    }
   ],
   "source": [
    "df.CLASS.value_counts()"
   ]
  },
  {
   "cell_type": "code",
   "execution_count": 173,
   "id": "4b4b9cf5",
   "metadata": {},
   "outputs": [],
   "source": [
    "df_new=df"
   ]
  },
  {
   "cell_type": "code",
   "execution_count": 174,
   "id": "33882cd4",
   "metadata": {},
   "outputs": [
    {
     "data": {
      "application/vnd.microsoft.datawrangler.viewer.v0+json": {
       "columns": [
        {
         "name": "index",
         "rawType": "int64",
         "type": "integer"
        },
        {
         "name": "ID",
         "rawType": "int64",
         "type": "integer"
        },
        {
         "name": "No_Pation",
         "rawType": "int64",
         "type": "integer"
        },
        {
         "name": "Gender",
         "rawType": "int64",
         "type": "integer"
        },
        {
         "name": "AGE",
         "rawType": "int64",
         "type": "integer"
        },
        {
         "name": "Urea",
         "rawType": "float64",
         "type": "float"
        },
        {
         "name": "Cr",
         "rawType": "int64",
         "type": "integer"
        },
        {
         "name": "HbA1c",
         "rawType": "float64",
         "type": "float"
        },
        {
         "name": "Chol",
         "rawType": "float64",
         "type": "float"
        },
        {
         "name": "TG",
         "rawType": "float64",
         "type": "float"
        },
        {
         "name": "HDL",
         "rawType": "float64",
         "type": "float"
        },
        {
         "name": "LDL",
         "rawType": "float64",
         "type": "float"
        },
        {
         "name": "VLDL",
         "rawType": "float64",
         "type": "float"
        },
        {
         "name": "BMI",
         "rawType": "float64",
         "type": "float"
        },
        {
         "name": "CLASS",
         "rawType": "object",
         "type": "string"
        }
       ],
       "ref": "bfc9444a-091b-4390-b44f-811c46a5f6e7",
       "rows": [
        [
         "0",
         "502",
         "17975",
         "0",
         "50",
         "4.7",
         "46",
         "4.9",
         "4.2",
         "0.9",
         "2.4",
         "1.4",
         "0.5",
         "24.0",
         "N"
        ],
        [
         "1",
         "735",
         "34221",
         "1",
         "26",
         "4.5",
         "62",
         "4.9",
         "3.7",
         "1.4",
         "1.1",
         "2.1",
         "0.6",
         "23.0",
         "N"
        ],
        [
         "2",
         "420",
         "47975",
         "0",
         "50",
         "4.7",
         "46",
         "4.9",
         "4.2",
         "0.9",
         "2.4",
         "1.4",
         "0.5",
         "24.0",
         "N"
        ],
        [
         "3",
         "680",
         "87656",
         "0",
         "50",
         "4.7",
         "46",
         "4.9",
         "4.2",
         "0.9",
         "2.4",
         "1.4",
         "0.5",
         "24.0",
         "N"
        ],
        [
         "4",
         "504",
         "34223",
         "1",
         "33",
         "7.1",
         "46",
         "4.9",
         "4.9",
         "1.0",
         "0.8",
         "2.0",
         "0.4",
         "21.0",
         "N"
        ],
        [
         "5",
         "634",
         "34224",
         "0",
         "45",
         "2.3",
         "24",
         "4.0",
         "2.9",
         "1.0",
         "1.0",
         "1.5",
         "0.4",
         "21.0",
         "N"
        ],
        [
         "6",
         "721",
         "34225",
         "0",
         "50",
         "2.0",
         "50",
         "4.0",
         "3.6",
         "1.3",
         "0.9",
         "2.1",
         "0.6",
         "24.0",
         "N"
        ],
        [
         "7",
         "421",
         "34227",
         "1",
         "48",
         "4.7",
         "47",
         "4.0",
         "2.9",
         "0.8",
         "0.9",
         "1.6",
         "0.4",
         "24.0",
         "N"
        ],
        [
         "8",
         "670",
         "34229",
         "1",
         "43",
         "2.6",
         "67",
         "4.0",
         "3.8",
         "0.9",
         "2.4",
         "3.7",
         "1.0",
         "21.0",
         "N"
        ],
        [
         "9",
         "759",
         "34230",
         "0",
         "32",
         "3.6",
         "28",
         "4.0",
         "3.8",
         "2.0",
         "2.4",
         "3.8",
         "1.0",
         "24.0",
         "N"
        ],
        [
         "10",
         "636",
         "34231",
         "0",
         "31",
         "4.4",
         "55",
         "4.2",
         "3.6",
         "0.7",
         "1.7",
         "1.6",
         "0.3",
         "23.0",
         "N"
        ],
        [
         "11",
         "788",
         "34232",
         "0",
         "33",
         "3.3",
         "53",
         "4.0",
         "4.0",
         "1.1",
         "0.9",
         "2.7",
         "1.0",
         "21.0",
         "N"
        ],
        [
         "12",
         "82",
         "46815",
         "0",
         "30",
         "3.0",
         "42",
         "4.1",
         "4.9",
         "1.3",
         "1.2",
         "3.2",
         "0.5",
         "22.0",
         "N"
        ],
        [
         "13",
         "132",
         "34234",
         "0",
         "45",
         "4.6",
         "54",
         "5.1",
         "4.2",
         "1.7",
         "1.2",
         "2.2",
         "0.8",
         "23.0",
         "N"
        ],
        [
         "14",
         "402",
         "34235",
         "0",
         "50",
         "3.5",
         "39",
         "4.0",
         "4.0",
         "1.5",
         "1.2",
         "2.2",
         "0.7",
         "24.0",
         "N"
        ],
        [
         "15",
         "566",
         "34236",
         "1",
         "50",
         "5.5",
         "74",
         "5.0",
         "3.6",
         "1.1",
         "1.0",
         "2.1",
         "0.5",
         "21.0",
         "N"
        ],
        [
         "16",
         "596",
         "34237",
         "0",
         "50",
         "5.9",
         "53",
         "5.4",
         "5.3",
         "0.8",
         "1.1",
         "4.1",
         "0.3",
         "21.0",
         "N"
        ],
        [
         "17",
         "676",
         "87654",
         "0",
         "30",
         "3.0",
         "42",
         "4.1",
         "4.9",
         "1.3",
         "1.2",
         "3.2",
         "0.5",
         "22.0",
         "N"
        ],
        [
         "18",
         "729",
         "34238",
         "0",
         "49",
         "2.2",
         "28",
         "4.1",
         "5.0",
         "1.3",
         "1.2",
         "3.3",
         "0.6",
         "24.0",
         "N"
        ],
        [
         "19",
         "742",
         "34239",
         "0",
         "49",
         "3.8",
         "55",
         "4.0",
         "4.4",
         "0.9",
         "1.0",
         "1.3",
         "0.4",
         "23.0",
         "N"
        ],
        [
         "20",
         "64",
         "34240",
         "0",
         "49",
         "13.5",
         "175",
         "5.1",
         "0.5",
         "1.9",
         "1.3",
         "2.8",
         "0.8",
         "24.0",
         "N"
        ],
        [
         "21",
         "97",
         "12744",
         "0",
         "42",
         "5.0",
         "73",
         "4.5",
         "6.2",
         "1.0",
         "1.1",
         "4.6",
         "0.4",
         "24.0",
         "N"
        ],
        [
         "22",
         "126",
         "34302",
         "0",
         "33",
         "5.3",
         "62",
         "5.0",
         "4.2",
         "1.5",
         "1.2",
         "2.3",
         "0.6",
         "24.0",
         "N"
        ],
        [
         "23",
         "390",
         "34282",
         "1",
         "50",
         "4.0",
         "28",
         "5.3",
         "4.8",
         "1.0",
         "0.9",
         "3.6",
         "0.4",
         "23.0",
         "N"
        ],
        [
         "24",
         "458",
         "34242",
         "0",
         "39",
         "3.2",
         "55",
         "5.0",
         "4.6",
         "1.3",
         "1.0",
         "3.0",
         "0.6",
         "21.0",
         "N"
        ],
        [
         "25",
         "470",
         "46675",
         "0",
         "30",
         "3.0",
         "45",
         "4.1",
         "4.9",
         "1.3",
         "1.2",
         "3.2",
         "0.5",
         "22.0",
         "N"
        ],
        [
         "26",
         "494",
         "45566",
         "1",
         "30",
         "4.8",
         "80",
         "5.5",
         "5.5",
         "1.8",
         "1.2",
         "3.5",
         "0.8",
         "19.0",
         "N"
        ],
        [
         "27",
         "564",
         "34309",
         "1",
         "41",
         "4.2",
         "99",
         "4.0",
         "2.8",
         "2.9",
         "0.8",
         "3.8",
         "1.3",
         "22.0",
         "N"
        ],
        [
         "28",
         "696",
         "87664",
         "1",
         "33",
         "2.0",
         "54",
         "5.4",
         "3.7",
         "1.3",
         "0.8",
         "2.4",
         "0.6",
         "22.0",
         "N"
        ],
        [
         "29",
         "106",
         "34245",
         "0",
         "44",
         "4.3",
         "49",
         "4.0",
         "5.6",
         "1.4",
         "1.4",
         "3.6",
         "0.6",
         "22.0",
         "N"
        ],
        [
         "30",
         "138",
         "34246",
         "0",
         "48",
         "7.5",
         "82",
         "5.4",
         "3.2",
         "1.8",
         "1.6",
         "0.9",
         "0.8",
         "23.0",
         "N"
        ],
        [
         "31",
         "315",
         "34294",
         "1",
         "47",
         "4.6",
         "55",
         "4.3",
         "4.6",
         "0.8",
         "0.9",
         "4.2",
         "4.1",
         "24.0",
         "N"
        ],
        [
         "32",
         "650",
         "75435657",
         "1",
         "36",
         "3.8",
         "70",
         "5.0",
         "3.6",
         "0.7",
         "1.3",
         "1.9",
         "5.0",
         "22.0",
         "N"
        ],
        [
         "33",
         "678",
         "87655",
         "0",
         "42",
         "5.0",
         "73",
         "4.5",
         "6.2",
         "1.0",
         "1.1",
         "4.6",
         "0.4",
         "24.0",
         "N"
        ],
        [
         "34",
         "699",
         "34290",
         "0",
         "47",
         "5.6",
         "67",
         "5.1",
         "6.5",
         "1.5",
         "0.9",
         "4.9",
         "0.7",
         "23.0",
         "N"
        ],
        [
         "35",
         "703",
         "34248",
         "0",
         "39",
         "6.0",
         "67",
         "4.0",
         "4.0",
         "0.6",
         "1.1",
         "2.6",
         "0.3",
         "22.0",
         "N"
        ],
        [
         "36",
         "708",
         "34249",
         "0",
         "38",
         "2.0",
         "20",
         "5.1",
         "3.0",
         "1.2",
         "0.6",
         "2.0",
         "0.5",
         "21.0",
         "N"
        ],
        [
         "37",
         "719",
         "34298",
         "1",
         "46",
         "2.0",
         "54",
         "5.4",
         "3.7",
         "1.3",
         "0.8",
         "2.4",
         "0.6",
         "21.0",
         "N"
        ],
        [
         "38",
         "740",
         "34250",
         "1",
         "44",
         "3.8",
         "74",
         "5.0",
         "3.7",
         "1.5",
         "1.1",
         "2.0",
         "0.7",
         "24.0",
         "N"
        ],
        [
         "39",
         "741",
         "34251",
         "0",
         "41",
         "3.4",
         "48",
         "4.0",
         "4.4",
         "1.6",
         "0.8",
         "3.0",
         "0.7",
         "23.0",
         "N"
        ],
        [
         "40",
         "746",
         "34299",
         "0",
         "45",
         "4.7",
         "31",
         "4.8",
         "3.8",
         "0.7",
         "1.3",
         "2.2",
         "0.3",
         "24.0",
         "N"
        ],
        [
         "41",
         "794",
         "34285",
         "0",
         "44",
         "3.0",
         "39",
         "5.5",
         "9.5",
         "1.7",
         "1.3",
         "2.5",
         "0.6",
         "21.0",
         "N"
        ],
        [
         "42",
         "219",
         "48759",
         "1",
         "33",
         "2.0",
         "54",
         "5.4",
         "3.7",
         "1.3",
         "0.8",
         "2.4",
         "0.6",
         "22.0",
         "N"
        ],
        [
         "43",
         "255",
         "34293",
         "1",
         "43",
         "4.1",
         "44",
         "4.3",
         "4.7",
         "1.9",
         "1.4",
         "2.6",
         "0.8",
         "21.0",
         "N"
        ],
        [
         "44",
         "450",
         "6402",
         "0",
         "33",
         "2.7",
         "47",
         "5.0",
         "4.2",
         "1.4",
         "1.3",
         "2.6",
         "0.7",
         "24.0",
         "N"
        ],
        [
         "45",
         "626",
         "34254",
         "1",
         "49",
         "5.7",
         "74",
         "4.7",
         "5.2",
         "1.1",
         "0.9",
         "1.4",
         "0.7",
         "21.0",
         "N"
        ],
        [
         "46",
         "664",
         "78554",
         "1",
         "31",
         "3.6",
         "67",
         "3.7",
         "4.3",
         "2.1",
         "1.0",
         "2.4",
         "14.5",
         "23.0",
         "N"
        ],
        [
         "47",
         "704",
         "34255",
         "1",
         "49",
         "3.8",
         "60",
         "5.0",
         "4.7",
         "1.8",
         "0.7",
         "3.3",
         "0.8",
         "24.0",
         "N"
        ],
        [
         "48",
         "799",
         "34517",
         "0",
         "44",
         "3.0",
         "39",
         "5.5",
         "9.5",
         "1.7",
         "1.3",
         "2.5",
         "0.6",
         "21.0",
         "N"
        ],
        [
         "49",
         "210",
         "34257",
         "0",
         "47",
         "3.7",
         "48",
         "5.0",
         "4.7",
         "1.6",
         "1.0",
         "2.4",
         "0.7",
         "22.0",
         "N"
        ]
       ],
       "shape": {
        "columns": 14,
        "rows": 1000
       }
      },
      "text/html": [
       "<div>\n",
       "<style scoped>\n",
       "    .dataframe tbody tr th:only-of-type {\n",
       "        vertical-align: middle;\n",
       "    }\n",
       "\n",
       "    .dataframe tbody tr th {\n",
       "        vertical-align: top;\n",
       "    }\n",
       "\n",
       "    .dataframe thead th {\n",
       "        text-align: right;\n",
       "    }\n",
       "</style>\n",
       "<table border=\"1\" class=\"dataframe\">\n",
       "  <thead>\n",
       "    <tr style=\"text-align: right;\">\n",
       "      <th></th>\n",
       "      <th>ID</th>\n",
       "      <th>No_Pation</th>\n",
       "      <th>Gender</th>\n",
       "      <th>AGE</th>\n",
       "      <th>Urea</th>\n",
       "      <th>Cr</th>\n",
       "      <th>HbA1c</th>\n",
       "      <th>Chol</th>\n",
       "      <th>TG</th>\n",
       "      <th>HDL</th>\n",
       "      <th>LDL</th>\n",
       "      <th>VLDL</th>\n",
       "      <th>BMI</th>\n",
       "      <th>CLASS</th>\n",
       "    </tr>\n",
       "  </thead>\n",
       "  <tbody>\n",
       "    <tr>\n",
       "      <th>0</th>\n",
       "      <td>502</td>\n",
       "      <td>17975</td>\n",
       "      <td>0</td>\n",
       "      <td>50</td>\n",
       "      <td>4.7</td>\n",
       "      <td>46</td>\n",
       "      <td>4.9</td>\n",
       "      <td>4.2</td>\n",
       "      <td>0.9</td>\n",
       "      <td>2.4</td>\n",
       "      <td>1.4</td>\n",
       "      <td>0.5</td>\n",
       "      <td>24.0</td>\n",
       "      <td>N</td>\n",
       "    </tr>\n",
       "    <tr>\n",
       "      <th>1</th>\n",
       "      <td>735</td>\n",
       "      <td>34221</td>\n",
       "      <td>1</td>\n",
       "      <td>26</td>\n",
       "      <td>4.5</td>\n",
       "      <td>62</td>\n",
       "      <td>4.9</td>\n",
       "      <td>3.7</td>\n",
       "      <td>1.4</td>\n",
       "      <td>1.1</td>\n",
       "      <td>2.1</td>\n",
       "      <td>0.6</td>\n",
       "      <td>23.0</td>\n",
       "      <td>N</td>\n",
       "    </tr>\n",
       "    <tr>\n",
       "      <th>2</th>\n",
       "      <td>420</td>\n",
       "      <td>47975</td>\n",
       "      <td>0</td>\n",
       "      <td>50</td>\n",
       "      <td>4.7</td>\n",
       "      <td>46</td>\n",
       "      <td>4.9</td>\n",
       "      <td>4.2</td>\n",
       "      <td>0.9</td>\n",
       "      <td>2.4</td>\n",
       "      <td>1.4</td>\n",
       "      <td>0.5</td>\n",
       "      <td>24.0</td>\n",
       "      <td>N</td>\n",
       "    </tr>\n",
       "    <tr>\n",
       "      <th>3</th>\n",
       "      <td>680</td>\n",
       "      <td>87656</td>\n",
       "      <td>0</td>\n",
       "      <td>50</td>\n",
       "      <td>4.7</td>\n",
       "      <td>46</td>\n",
       "      <td>4.9</td>\n",
       "      <td>4.2</td>\n",
       "      <td>0.9</td>\n",
       "      <td>2.4</td>\n",
       "      <td>1.4</td>\n",
       "      <td>0.5</td>\n",
       "      <td>24.0</td>\n",
       "      <td>N</td>\n",
       "    </tr>\n",
       "    <tr>\n",
       "      <th>4</th>\n",
       "      <td>504</td>\n",
       "      <td>34223</td>\n",
       "      <td>1</td>\n",
       "      <td>33</td>\n",
       "      <td>7.1</td>\n",
       "      <td>46</td>\n",
       "      <td>4.9</td>\n",
       "      <td>4.9</td>\n",
       "      <td>1.0</td>\n",
       "      <td>0.8</td>\n",
       "      <td>2.0</td>\n",
       "      <td>0.4</td>\n",
       "      <td>21.0</td>\n",
       "      <td>N</td>\n",
       "    </tr>\n",
       "    <tr>\n",
       "      <th>...</th>\n",
       "      <td>...</td>\n",
       "      <td>...</td>\n",
       "      <td>...</td>\n",
       "      <td>...</td>\n",
       "      <td>...</td>\n",
       "      <td>...</td>\n",
       "      <td>...</td>\n",
       "      <td>...</td>\n",
       "      <td>...</td>\n",
       "      <td>...</td>\n",
       "      <td>...</td>\n",
       "      <td>...</td>\n",
       "      <td>...</td>\n",
       "      <td>...</td>\n",
       "    </tr>\n",
       "    <tr>\n",
       "      <th>995</th>\n",
       "      <td>200</td>\n",
       "      <td>454317</td>\n",
       "      <td>1</td>\n",
       "      <td>71</td>\n",
       "      <td>11.0</td>\n",
       "      <td>97</td>\n",
       "      <td>7.0</td>\n",
       "      <td>7.5</td>\n",
       "      <td>1.7</td>\n",
       "      <td>1.2</td>\n",
       "      <td>1.8</td>\n",
       "      <td>0.6</td>\n",
       "      <td>30.0</td>\n",
       "      <td>Y</td>\n",
       "    </tr>\n",
       "    <tr>\n",
       "      <th>996</th>\n",
       "      <td>671</td>\n",
       "      <td>876534</td>\n",
       "      <td>1</td>\n",
       "      <td>31</td>\n",
       "      <td>3.0</td>\n",
       "      <td>60</td>\n",
       "      <td>12.3</td>\n",
       "      <td>4.1</td>\n",
       "      <td>2.2</td>\n",
       "      <td>0.7</td>\n",
       "      <td>2.4</td>\n",
       "      <td>15.4</td>\n",
       "      <td>37.2</td>\n",
       "      <td>Y</td>\n",
       "    </tr>\n",
       "    <tr>\n",
       "      <th>997</th>\n",
       "      <td>669</td>\n",
       "      <td>87654</td>\n",
       "      <td>1</td>\n",
       "      <td>30</td>\n",
       "      <td>7.1</td>\n",
       "      <td>81</td>\n",
       "      <td>6.7</td>\n",
       "      <td>4.1</td>\n",
       "      <td>1.1</td>\n",
       "      <td>1.2</td>\n",
       "      <td>2.4</td>\n",
       "      <td>8.1</td>\n",
       "      <td>27.4</td>\n",
       "      <td>Y</td>\n",
       "    </tr>\n",
       "    <tr>\n",
       "      <th>998</th>\n",
       "      <td>99</td>\n",
       "      <td>24004</td>\n",
       "      <td>1</td>\n",
       "      <td>38</td>\n",
       "      <td>5.8</td>\n",
       "      <td>59</td>\n",
       "      <td>6.7</td>\n",
       "      <td>5.3</td>\n",
       "      <td>2.0</td>\n",
       "      <td>1.6</td>\n",
       "      <td>2.9</td>\n",
       "      <td>14.0</td>\n",
       "      <td>40.5</td>\n",
       "      <td>Y</td>\n",
       "    </tr>\n",
       "    <tr>\n",
       "      <th>999</th>\n",
       "      <td>248</td>\n",
       "      <td>24054</td>\n",
       "      <td>1</td>\n",
       "      <td>54</td>\n",
       "      <td>5.0</td>\n",
       "      <td>67</td>\n",
       "      <td>6.9</td>\n",
       "      <td>3.8</td>\n",
       "      <td>1.7</td>\n",
       "      <td>1.1</td>\n",
       "      <td>3.0</td>\n",
       "      <td>0.7</td>\n",
       "      <td>33.0</td>\n",
       "      <td>Y</td>\n",
       "    </tr>\n",
       "  </tbody>\n",
       "</table>\n",
       "<p>1000 rows × 14 columns</p>\n",
       "</div>"
      ],
      "text/plain": [
       "      ID  No_Pation  Gender  AGE  Urea  Cr  HbA1c  Chol   TG  HDL  LDL  VLDL  \\\n",
       "0    502      17975       0   50   4.7  46    4.9   4.2  0.9  2.4  1.4   0.5   \n",
       "1    735      34221       1   26   4.5  62    4.9   3.7  1.4  1.1  2.1   0.6   \n",
       "2    420      47975       0   50   4.7  46    4.9   4.2  0.9  2.4  1.4   0.5   \n",
       "3    680      87656       0   50   4.7  46    4.9   4.2  0.9  2.4  1.4   0.5   \n",
       "4    504      34223       1   33   7.1  46    4.9   4.9  1.0  0.8  2.0   0.4   \n",
       "..   ...        ...     ...  ...   ...  ..    ...   ...  ...  ...  ...   ...   \n",
       "995  200     454317       1   71  11.0  97    7.0   7.5  1.7  1.2  1.8   0.6   \n",
       "996  671     876534       1   31   3.0  60   12.3   4.1  2.2  0.7  2.4  15.4   \n",
       "997  669      87654       1   30   7.1  81    6.7   4.1  1.1  1.2  2.4   8.1   \n",
       "998   99      24004       1   38   5.8  59    6.7   5.3  2.0  1.6  2.9  14.0   \n",
       "999  248      24054       1   54   5.0  67    6.9   3.8  1.7  1.1  3.0   0.7   \n",
       "\n",
       "      BMI CLASS  \n",
       "0    24.0     N  \n",
       "1    23.0     N  \n",
       "2    24.0     N  \n",
       "3    24.0     N  \n",
       "4    21.0     N  \n",
       "..    ...   ...  \n",
       "995  30.0     Y  \n",
       "996  37.2     Y  \n",
       "997  27.4     Y  \n",
       "998  40.5     Y  \n",
       "999  33.0     Y  \n",
       "\n",
       "[1000 rows x 14 columns]"
      ]
     },
     "execution_count": 174,
     "metadata": {},
     "output_type": "execute_result"
    }
   ],
   "source": [
    "df_new"
   ]
  },
  {
   "cell_type": "code",
   "execution_count": 180,
   "id": "f538870a",
   "metadata": {},
   "outputs": [],
   "source": [
    "df_new['CLASS']=df_new['CLASS'].replace('P','1')"
   ]
  },
  {
   "cell_type": "code",
   "execution_count": 181,
   "id": "752717c0",
   "metadata": {},
   "outputs": [],
   "source": [
    "df_new['CLASS']=df_new['CLASS'].replace('N','0')"
   ]
  },
  {
   "cell_type": "code",
   "execution_count": 182,
   "id": "04016681",
   "metadata": {},
   "outputs": [],
   "source": [
    "df['CLASS']=df['CLASS'].replace('Y','2')"
   ]
  },
  {
   "cell_type": "code",
   "execution_count": 189,
   "id": "7e16cc68",
   "metadata": {},
   "outputs": [
    {
     "data": {
      "application/vnd.microsoft.datawrangler.viewer.v0+json": {
       "columns": [
        {
         "name": "index",
         "rawType": "int64",
         "type": "integer"
        },
        {
         "name": "ID",
         "rawType": "int64",
         "type": "integer"
        },
        {
         "name": "No_Pation",
         "rawType": "int64",
         "type": "integer"
        },
        {
         "name": "Gender",
         "rawType": "int64",
         "type": "integer"
        },
        {
         "name": "AGE",
         "rawType": "int64",
         "type": "integer"
        },
        {
         "name": "Urea",
         "rawType": "float64",
         "type": "float"
        },
        {
         "name": "Cr",
         "rawType": "int64",
         "type": "integer"
        },
        {
         "name": "HbA1c",
         "rawType": "float64",
         "type": "float"
        },
        {
         "name": "Chol",
         "rawType": "float64",
         "type": "float"
        },
        {
         "name": "TG",
         "rawType": "float64",
         "type": "float"
        },
        {
         "name": "HDL",
         "rawType": "float64",
         "type": "float"
        },
        {
         "name": "LDL",
         "rawType": "float64",
         "type": "float"
        },
        {
         "name": "VLDL",
         "rawType": "float64",
         "type": "float"
        },
        {
         "name": "BMI",
         "rawType": "float64",
         "type": "float"
        }
       ],
       "ref": "b19a9132-1d5a-4e05-b4ae-f20f088aec2e",
       "rows": [
        [
         "0",
         "502",
         "17975",
         "0",
         "50",
         "4.7",
         "46",
         "4.9",
         "4.2",
         "0.9",
         "2.4",
         "1.4",
         "0.5",
         "24.0"
        ],
        [
         "1",
         "735",
         "34221",
         "1",
         "26",
         "4.5",
         "62",
         "4.9",
         "3.7",
         "1.4",
         "1.1",
         "2.1",
         "0.6",
         "23.0"
        ],
        [
         "2",
         "420",
         "47975",
         "0",
         "50",
         "4.7",
         "46",
         "4.9",
         "4.2",
         "0.9",
         "2.4",
         "1.4",
         "0.5",
         "24.0"
        ],
        [
         "3",
         "680",
         "87656",
         "0",
         "50",
         "4.7",
         "46",
         "4.9",
         "4.2",
         "0.9",
         "2.4",
         "1.4",
         "0.5",
         "24.0"
        ],
        [
         "4",
         "504",
         "34223",
         "1",
         "33",
         "7.1",
         "46",
         "4.9",
         "4.9",
         "1.0",
         "0.8",
         "2.0",
         "0.4",
         "21.0"
        ],
        [
         "5",
         "634",
         "34224",
         "0",
         "45",
         "2.3",
         "24",
         "4.0",
         "2.9",
         "1.0",
         "1.0",
         "1.5",
         "0.4",
         "21.0"
        ],
        [
         "6",
         "721",
         "34225",
         "0",
         "50",
         "2.0",
         "50",
         "4.0",
         "3.6",
         "1.3",
         "0.9",
         "2.1",
         "0.6",
         "24.0"
        ],
        [
         "7",
         "421",
         "34227",
         "1",
         "48",
         "4.7",
         "47",
         "4.0",
         "2.9",
         "0.8",
         "0.9",
         "1.6",
         "0.4",
         "24.0"
        ],
        [
         "8",
         "670",
         "34229",
         "1",
         "43",
         "2.6",
         "67",
         "4.0",
         "3.8",
         "0.9",
         "2.4",
         "3.7",
         "1.0",
         "21.0"
        ],
        [
         "9",
         "759",
         "34230",
         "0",
         "32",
         "3.6",
         "28",
         "4.0",
         "3.8",
         "2.0",
         "2.4",
         "3.8",
         "1.0",
         "24.0"
        ],
        [
         "10",
         "636",
         "34231",
         "0",
         "31",
         "4.4",
         "55",
         "4.2",
         "3.6",
         "0.7",
         "1.7",
         "1.6",
         "0.3",
         "23.0"
        ],
        [
         "11",
         "788",
         "34232",
         "0",
         "33",
         "3.3",
         "53",
         "4.0",
         "4.0",
         "1.1",
         "0.9",
         "2.7",
         "1.0",
         "21.0"
        ],
        [
         "12",
         "82",
         "46815",
         "0",
         "30",
         "3.0",
         "42",
         "4.1",
         "4.9",
         "1.3",
         "1.2",
         "3.2",
         "0.5",
         "22.0"
        ],
        [
         "13",
         "132",
         "34234",
         "0",
         "45",
         "4.6",
         "54",
         "5.1",
         "4.2",
         "1.7",
         "1.2",
         "2.2",
         "0.8",
         "23.0"
        ],
        [
         "14",
         "402",
         "34235",
         "0",
         "50",
         "3.5",
         "39",
         "4.0",
         "4.0",
         "1.5",
         "1.2",
         "2.2",
         "0.7",
         "24.0"
        ],
        [
         "15",
         "566",
         "34236",
         "1",
         "50",
         "5.5",
         "74",
         "5.0",
         "3.6",
         "1.1",
         "1.0",
         "2.1",
         "0.5",
         "21.0"
        ],
        [
         "16",
         "596",
         "34237",
         "0",
         "50",
         "5.9",
         "53",
         "5.4",
         "5.3",
         "0.8",
         "1.1",
         "4.1",
         "0.3",
         "21.0"
        ],
        [
         "17",
         "676",
         "87654",
         "0",
         "30",
         "3.0",
         "42",
         "4.1",
         "4.9",
         "1.3",
         "1.2",
         "3.2",
         "0.5",
         "22.0"
        ],
        [
         "18",
         "729",
         "34238",
         "0",
         "49",
         "2.2",
         "28",
         "4.1",
         "5.0",
         "1.3",
         "1.2",
         "3.3",
         "0.6",
         "24.0"
        ],
        [
         "19",
         "742",
         "34239",
         "0",
         "49",
         "3.8",
         "55",
         "4.0",
         "4.4",
         "0.9",
         "1.0",
         "1.3",
         "0.4",
         "23.0"
        ],
        [
         "20",
         "64",
         "34240",
         "0",
         "49",
         "13.5",
         "175",
         "5.1",
         "0.5",
         "1.9",
         "1.3",
         "2.8",
         "0.8",
         "24.0"
        ],
        [
         "21",
         "97",
         "12744",
         "0",
         "42",
         "5.0",
         "73",
         "4.5",
         "6.2",
         "1.0",
         "1.1",
         "4.6",
         "0.4",
         "24.0"
        ],
        [
         "22",
         "126",
         "34302",
         "0",
         "33",
         "5.3",
         "62",
         "5.0",
         "4.2",
         "1.5",
         "1.2",
         "2.3",
         "0.6",
         "24.0"
        ],
        [
         "23",
         "390",
         "34282",
         "1",
         "50",
         "4.0",
         "28",
         "5.3",
         "4.8",
         "1.0",
         "0.9",
         "3.6",
         "0.4",
         "23.0"
        ],
        [
         "24",
         "458",
         "34242",
         "0",
         "39",
         "3.2",
         "55",
         "5.0",
         "4.6",
         "1.3",
         "1.0",
         "3.0",
         "0.6",
         "21.0"
        ],
        [
         "25",
         "470",
         "46675",
         "0",
         "30",
         "3.0",
         "45",
         "4.1",
         "4.9",
         "1.3",
         "1.2",
         "3.2",
         "0.5",
         "22.0"
        ],
        [
         "26",
         "494",
         "45566",
         "1",
         "30",
         "4.8",
         "80",
         "5.5",
         "5.5",
         "1.8",
         "1.2",
         "3.5",
         "0.8",
         "19.0"
        ],
        [
         "27",
         "564",
         "34309",
         "1",
         "41",
         "4.2",
         "99",
         "4.0",
         "2.8",
         "2.9",
         "0.8",
         "3.8",
         "1.3",
         "22.0"
        ],
        [
         "28",
         "696",
         "87664",
         "1",
         "33",
         "2.0",
         "54",
         "5.4",
         "3.7",
         "1.3",
         "0.8",
         "2.4",
         "0.6",
         "22.0"
        ],
        [
         "29",
         "106",
         "34245",
         "0",
         "44",
         "4.3",
         "49",
         "4.0",
         "5.6",
         "1.4",
         "1.4",
         "3.6",
         "0.6",
         "22.0"
        ],
        [
         "30",
         "138",
         "34246",
         "0",
         "48",
         "7.5",
         "82",
         "5.4",
         "3.2",
         "1.8",
         "1.6",
         "0.9",
         "0.8",
         "23.0"
        ],
        [
         "31",
         "315",
         "34294",
         "1",
         "47",
         "4.6",
         "55",
         "4.3",
         "4.6",
         "0.8",
         "0.9",
         "4.2",
         "4.1",
         "24.0"
        ],
        [
         "32",
         "650",
         "75435657",
         "1",
         "36",
         "3.8",
         "70",
         "5.0",
         "3.6",
         "0.7",
         "1.3",
         "1.9",
         "5.0",
         "22.0"
        ],
        [
         "33",
         "678",
         "87655",
         "0",
         "42",
         "5.0",
         "73",
         "4.5",
         "6.2",
         "1.0",
         "1.1",
         "4.6",
         "0.4",
         "24.0"
        ],
        [
         "34",
         "699",
         "34290",
         "0",
         "47",
         "5.6",
         "67",
         "5.1",
         "6.5",
         "1.5",
         "0.9",
         "4.9",
         "0.7",
         "23.0"
        ],
        [
         "35",
         "703",
         "34248",
         "0",
         "39",
         "6.0",
         "67",
         "4.0",
         "4.0",
         "0.6",
         "1.1",
         "2.6",
         "0.3",
         "22.0"
        ],
        [
         "36",
         "708",
         "34249",
         "0",
         "38",
         "2.0",
         "20",
         "5.1",
         "3.0",
         "1.2",
         "0.6",
         "2.0",
         "0.5",
         "21.0"
        ],
        [
         "37",
         "719",
         "34298",
         "1",
         "46",
         "2.0",
         "54",
         "5.4",
         "3.7",
         "1.3",
         "0.8",
         "2.4",
         "0.6",
         "21.0"
        ],
        [
         "38",
         "740",
         "34250",
         "1",
         "44",
         "3.8",
         "74",
         "5.0",
         "3.7",
         "1.5",
         "1.1",
         "2.0",
         "0.7",
         "24.0"
        ],
        [
         "39",
         "741",
         "34251",
         "0",
         "41",
         "3.4",
         "48",
         "4.0",
         "4.4",
         "1.6",
         "0.8",
         "3.0",
         "0.7",
         "23.0"
        ],
        [
         "40",
         "746",
         "34299",
         "0",
         "45",
         "4.7",
         "31",
         "4.8",
         "3.8",
         "0.7",
         "1.3",
         "2.2",
         "0.3",
         "24.0"
        ],
        [
         "41",
         "794",
         "34285",
         "0",
         "44",
         "3.0",
         "39",
         "5.5",
         "9.5",
         "1.7",
         "1.3",
         "2.5",
         "0.6",
         "21.0"
        ],
        [
         "42",
         "219",
         "48759",
         "1",
         "33",
         "2.0",
         "54",
         "5.4",
         "3.7",
         "1.3",
         "0.8",
         "2.4",
         "0.6",
         "22.0"
        ],
        [
         "43",
         "255",
         "34293",
         "1",
         "43",
         "4.1",
         "44",
         "4.3",
         "4.7",
         "1.9",
         "1.4",
         "2.6",
         "0.8",
         "21.0"
        ],
        [
         "44",
         "450",
         "6402",
         "0",
         "33",
         "2.7",
         "47",
         "5.0",
         "4.2",
         "1.4",
         "1.3",
         "2.6",
         "0.7",
         "24.0"
        ],
        [
         "45",
         "626",
         "34254",
         "1",
         "49",
         "5.7",
         "74",
         "4.7",
         "5.2",
         "1.1",
         "0.9",
         "1.4",
         "0.7",
         "21.0"
        ],
        [
         "46",
         "664",
         "78554",
         "1",
         "31",
         "3.6",
         "67",
         "3.7",
         "4.3",
         "2.1",
         "1.0",
         "2.4",
         "14.5",
         "23.0"
        ],
        [
         "47",
         "704",
         "34255",
         "1",
         "49",
         "3.8",
         "60",
         "5.0",
         "4.7",
         "1.8",
         "0.7",
         "3.3",
         "0.8",
         "24.0"
        ],
        [
         "48",
         "799",
         "34517",
         "0",
         "44",
         "3.0",
         "39",
         "5.5",
         "9.5",
         "1.7",
         "1.3",
         "2.5",
         "0.6",
         "21.0"
        ],
        [
         "49",
         "210",
         "34257",
         "0",
         "47",
         "3.7",
         "48",
         "5.0",
         "4.7",
         "1.6",
         "1.0",
         "2.4",
         "0.7",
         "22.0"
        ]
       ],
       "shape": {
        "columns": 13,
        "rows": 1000
       }
      },
      "text/html": [
       "<div>\n",
       "<style scoped>\n",
       "    .dataframe tbody tr th:only-of-type {\n",
       "        vertical-align: middle;\n",
       "    }\n",
       "\n",
       "    .dataframe tbody tr th {\n",
       "        vertical-align: top;\n",
       "    }\n",
       "\n",
       "    .dataframe thead th {\n",
       "        text-align: right;\n",
       "    }\n",
       "</style>\n",
       "<table border=\"1\" class=\"dataframe\">\n",
       "  <thead>\n",
       "    <tr style=\"text-align: right;\">\n",
       "      <th></th>\n",
       "      <th>ID</th>\n",
       "      <th>No_Pation</th>\n",
       "      <th>Gender</th>\n",
       "      <th>AGE</th>\n",
       "      <th>Urea</th>\n",
       "      <th>Cr</th>\n",
       "      <th>HbA1c</th>\n",
       "      <th>Chol</th>\n",
       "      <th>TG</th>\n",
       "      <th>HDL</th>\n",
       "      <th>LDL</th>\n",
       "      <th>VLDL</th>\n",
       "      <th>BMI</th>\n",
       "    </tr>\n",
       "  </thead>\n",
       "  <tbody>\n",
       "    <tr>\n",
       "      <th>0</th>\n",
       "      <td>502</td>\n",
       "      <td>17975</td>\n",
       "      <td>0</td>\n",
       "      <td>50</td>\n",
       "      <td>4.7</td>\n",
       "      <td>46</td>\n",
       "      <td>4.9</td>\n",
       "      <td>4.2</td>\n",
       "      <td>0.9</td>\n",
       "      <td>2.4</td>\n",
       "      <td>1.4</td>\n",
       "      <td>0.5</td>\n",
       "      <td>24.0</td>\n",
       "    </tr>\n",
       "    <tr>\n",
       "      <th>1</th>\n",
       "      <td>735</td>\n",
       "      <td>34221</td>\n",
       "      <td>1</td>\n",
       "      <td>26</td>\n",
       "      <td>4.5</td>\n",
       "      <td>62</td>\n",
       "      <td>4.9</td>\n",
       "      <td>3.7</td>\n",
       "      <td>1.4</td>\n",
       "      <td>1.1</td>\n",
       "      <td>2.1</td>\n",
       "      <td>0.6</td>\n",
       "      <td>23.0</td>\n",
       "    </tr>\n",
       "    <tr>\n",
       "      <th>2</th>\n",
       "      <td>420</td>\n",
       "      <td>47975</td>\n",
       "      <td>0</td>\n",
       "      <td>50</td>\n",
       "      <td>4.7</td>\n",
       "      <td>46</td>\n",
       "      <td>4.9</td>\n",
       "      <td>4.2</td>\n",
       "      <td>0.9</td>\n",
       "      <td>2.4</td>\n",
       "      <td>1.4</td>\n",
       "      <td>0.5</td>\n",
       "      <td>24.0</td>\n",
       "    </tr>\n",
       "    <tr>\n",
       "      <th>3</th>\n",
       "      <td>680</td>\n",
       "      <td>87656</td>\n",
       "      <td>0</td>\n",
       "      <td>50</td>\n",
       "      <td>4.7</td>\n",
       "      <td>46</td>\n",
       "      <td>4.9</td>\n",
       "      <td>4.2</td>\n",
       "      <td>0.9</td>\n",
       "      <td>2.4</td>\n",
       "      <td>1.4</td>\n",
       "      <td>0.5</td>\n",
       "      <td>24.0</td>\n",
       "    </tr>\n",
       "    <tr>\n",
       "      <th>4</th>\n",
       "      <td>504</td>\n",
       "      <td>34223</td>\n",
       "      <td>1</td>\n",
       "      <td>33</td>\n",
       "      <td>7.1</td>\n",
       "      <td>46</td>\n",
       "      <td>4.9</td>\n",
       "      <td>4.9</td>\n",
       "      <td>1.0</td>\n",
       "      <td>0.8</td>\n",
       "      <td>2.0</td>\n",
       "      <td>0.4</td>\n",
       "      <td>21.0</td>\n",
       "    </tr>\n",
       "    <tr>\n",
       "      <th>...</th>\n",
       "      <td>...</td>\n",
       "      <td>...</td>\n",
       "      <td>...</td>\n",
       "      <td>...</td>\n",
       "      <td>...</td>\n",
       "      <td>...</td>\n",
       "      <td>...</td>\n",
       "      <td>...</td>\n",
       "      <td>...</td>\n",
       "      <td>...</td>\n",
       "      <td>...</td>\n",
       "      <td>...</td>\n",
       "      <td>...</td>\n",
       "    </tr>\n",
       "    <tr>\n",
       "      <th>995</th>\n",
       "      <td>200</td>\n",
       "      <td>454317</td>\n",
       "      <td>1</td>\n",
       "      <td>71</td>\n",
       "      <td>11.0</td>\n",
       "      <td>97</td>\n",
       "      <td>7.0</td>\n",
       "      <td>7.5</td>\n",
       "      <td>1.7</td>\n",
       "      <td>1.2</td>\n",
       "      <td>1.8</td>\n",
       "      <td>0.6</td>\n",
       "      <td>30.0</td>\n",
       "    </tr>\n",
       "    <tr>\n",
       "      <th>996</th>\n",
       "      <td>671</td>\n",
       "      <td>876534</td>\n",
       "      <td>1</td>\n",
       "      <td>31</td>\n",
       "      <td>3.0</td>\n",
       "      <td>60</td>\n",
       "      <td>12.3</td>\n",
       "      <td>4.1</td>\n",
       "      <td>2.2</td>\n",
       "      <td>0.7</td>\n",
       "      <td>2.4</td>\n",
       "      <td>15.4</td>\n",
       "      <td>37.2</td>\n",
       "    </tr>\n",
       "    <tr>\n",
       "      <th>997</th>\n",
       "      <td>669</td>\n",
       "      <td>87654</td>\n",
       "      <td>1</td>\n",
       "      <td>30</td>\n",
       "      <td>7.1</td>\n",
       "      <td>81</td>\n",
       "      <td>6.7</td>\n",
       "      <td>4.1</td>\n",
       "      <td>1.1</td>\n",
       "      <td>1.2</td>\n",
       "      <td>2.4</td>\n",
       "      <td>8.1</td>\n",
       "      <td>27.4</td>\n",
       "    </tr>\n",
       "    <tr>\n",
       "      <th>998</th>\n",
       "      <td>99</td>\n",
       "      <td>24004</td>\n",
       "      <td>1</td>\n",
       "      <td>38</td>\n",
       "      <td>5.8</td>\n",
       "      <td>59</td>\n",
       "      <td>6.7</td>\n",
       "      <td>5.3</td>\n",
       "      <td>2.0</td>\n",
       "      <td>1.6</td>\n",
       "      <td>2.9</td>\n",
       "      <td>14.0</td>\n",
       "      <td>40.5</td>\n",
       "    </tr>\n",
       "    <tr>\n",
       "      <th>999</th>\n",
       "      <td>248</td>\n",
       "      <td>24054</td>\n",
       "      <td>1</td>\n",
       "      <td>54</td>\n",
       "      <td>5.0</td>\n",
       "      <td>67</td>\n",
       "      <td>6.9</td>\n",
       "      <td>3.8</td>\n",
       "      <td>1.7</td>\n",
       "      <td>1.1</td>\n",
       "      <td>3.0</td>\n",
       "      <td>0.7</td>\n",
       "      <td>33.0</td>\n",
       "    </tr>\n",
       "  </tbody>\n",
       "</table>\n",
       "<p>1000 rows × 13 columns</p>\n",
       "</div>"
      ],
      "text/plain": [
       "      ID  No_Pation  Gender  AGE  Urea  Cr  HbA1c  Chol   TG  HDL  LDL  VLDL  \\\n",
       "0    502      17975       0   50   4.7  46    4.9   4.2  0.9  2.4  1.4   0.5   \n",
       "1    735      34221       1   26   4.5  62    4.9   3.7  1.4  1.1  2.1   0.6   \n",
       "2    420      47975       0   50   4.7  46    4.9   4.2  0.9  2.4  1.4   0.5   \n",
       "3    680      87656       0   50   4.7  46    4.9   4.2  0.9  2.4  1.4   0.5   \n",
       "4    504      34223       1   33   7.1  46    4.9   4.9  1.0  0.8  2.0   0.4   \n",
       "..   ...        ...     ...  ...   ...  ..    ...   ...  ...  ...  ...   ...   \n",
       "995  200     454317       1   71  11.0  97    7.0   7.5  1.7  1.2  1.8   0.6   \n",
       "996  671     876534       1   31   3.0  60   12.3   4.1  2.2  0.7  2.4  15.4   \n",
       "997  669      87654       1   30   7.1  81    6.7   4.1  1.1  1.2  2.4   8.1   \n",
       "998   99      24004       1   38   5.8  59    6.7   5.3  2.0  1.6  2.9  14.0   \n",
       "999  248      24054       1   54   5.0  67    6.9   3.8  1.7  1.1  3.0   0.7   \n",
       "\n",
       "      BMI  \n",
       "0    24.0  \n",
       "1    23.0  \n",
       "2    24.0  \n",
       "3    24.0  \n",
       "4    21.0  \n",
       "..    ...  \n",
       "995  30.0  \n",
       "996  37.2  \n",
       "997  27.4  \n",
       "998  40.5  \n",
       "999  33.0  \n",
       "\n",
       "[1000 rows x 13 columns]"
      ]
     },
     "execution_count": 189,
     "metadata": {},
     "output_type": "execute_result"
    }
   ],
   "source": [
    "X=df_new.drop(['CLASS'],axis=1)\n",
    "X"
   ]
  },
  {
   "cell_type": "code",
   "execution_count": 190,
   "id": "1ba87c39",
   "metadata": {},
   "outputs": [],
   "source": [
    "y = df_new['CLASS']"
   ]
  },
  {
   "cell_type": "code",
   "execution_count": 191,
   "id": "bf41a8cb",
   "metadata": {},
   "outputs": [
    {
     "data": {
      "application/vnd.microsoft.datawrangler.viewer.v0+json": {
       "columns": [
        {
         "name": "index",
         "rawType": "int64",
         "type": "integer"
        },
        {
         "name": "CLASS",
         "rawType": "object",
         "type": "string"
        }
       ],
       "ref": "a146735c-b355-4d0c-99c1-a346372190c9",
       "rows": [
        [
         "0",
         "0"
        ],
        [
         "1",
         "0"
        ],
        [
         "2",
         "0"
        ],
        [
         "3",
         "0"
        ],
        [
         "4",
         "0"
        ],
        [
         "5",
         "0"
        ],
        [
         "6",
         "0"
        ],
        [
         "7",
         "0"
        ],
        [
         "8",
         "0"
        ],
        [
         "9",
         "0"
        ],
        [
         "10",
         "0"
        ],
        [
         "11",
         "0"
        ],
        [
         "12",
         "0"
        ],
        [
         "13",
         "0"
        ],
        [
         "14",
         "0"
        ],
        [
         "15",
         "0"
        ],
        [
         "16",
         "0"
        ],
        [
         "17",
         "0"
        ],
        [
         "18",
         "0"
        ],
        [
         "19",
         "0"
        ],
        [
         "20",
         "0"
        ],
        [
         "21",
         "0"
        ],
        [
         "22",
         "0"
        ],
        [
         "23",
         "0"
        ],
        [
         "24",
         "0"
        ],
        [
         "25",
         "0"
        ],
        [
         "26",
         "0"
        ],
        [
         "27",
         "0"
        ],
        [
         "28",
         "0"
        ],
        [
         "29",
         "0"
        ],
        [
         "30",
         "0"
        ],
        [
         "31",
         "0"
        ],
        [
         "32",
         "0"
        ],
        [
         "33",
         "0"
        ],
        [
         "34",
         "0"
        ],
        [
         "35",
         "0"
        ],
        [
         "36",
         "0"
        ],
        [
         "37",
         "0"
        ],
        [
         "38",
         "0"
        ],
        [
         "39",
         "0"
        ],
        [
         "40",
         "0"
        ],
        [
         "41",
         "0"
        ],
        [
         "42",
         "0"
        ],
        [
         "43",
         "0"
        ],
        [
         "44",
         "0"
        ],
        [
         "45",
         "0"
        ],
        [
         "46",
         "0"
        ],
        [
         "47",
         "0"
        ],
        [
         "48",
         "0"
        ],
        [
         "49",
         "0"
        ]
       ],
       "shape": {
        "columns": 1,
        "rows": 1000
       }
      },
      "text/plain": [
       "0      0\n",
       "1      0\n",
       "2      0\n",
       "3      0\n",
       "4      0\n",
       "      ..\n",
       "995    2\n",
       "996    2\n",
       "997    2\n",
       "998    2\n",
       "999    2\n",
       "Name: CLASS, Length: 1000, dtype: object"
      ]
     },
     "execution_count": 191,
     "metadata": {},
     "output_type": "execute_result"
    }
   ],
   "source": [
    "y"
   ]
  },
  {
   "cell_type": "code",
   "execution_count": 210,
   "id": "bbeefd4b",
   "metadata": {},
   "outputs": [],
   "source": [
    "from sklearn.model_selection import train_test_split\n",
    "X_train,X_test,y_train,y_test=train_test_split(X,y,test_size=0.3,random_state=42)"
   ]
  },
  {
   "cell_type": "code",
   "execution_count": 211,
   "id": "4b93a153",
   "metadata": {},
   "outputs": [
    {
     "data": {
      "text/plain": [
       "((700, 13), (300, 13))"
      ]
     },
     "execution_count": 211,
     "metadata": {},
     "output_type": "execute_result"
    }
   ],
   "source": [
    "X_train.shape,X_test.shape"
   ]
  },
  {
   "cell_type": "code",
   "execution_count": 212,
   "id": "5a13e9eb",
   "metadata": {},
   "outputs": [
    {
     "data": {
      "text/plain": [
       "((700,), (300,))"
      ]
     },
     "execution_count": 212,
     "metadata": {},
     "output_type": "execute_result"
    }
   ],
   "source": [
    "y_train.shape,y_test.shape"
   ]
  },
  {
   "cell_type": "code",
   "execution_count": 213,
   "id": "1396677c",
   "metadata": {},
   "outputs": [
    {
     "data": {
      "text/plain": [
       "'from sklearn.linear_model import LogisticRegression\\nlr=LogisticRegression()\\nlr.fit(X_train,y_train)'"
      ]
     },
     "execution_count": 213,
     "metadata": {},
     "output_type": "execute_result"
    }
   ],
   "source": [
    "'''from sklearn.linear_model import LogisticRegression\n",
    "lr=LogisticRegression()\n",
    "lr.fit(X_train,y_train)'''"
   ]
  },
  {
   "cell_type": "code",
   "execution_count": 214,
   "id": "0f8d3f13",
   "metadata": {},
   "outputs": [],
   "source": [
    "from sklearn.tree import DecisionTreeClassifier"
   ]
  },
  {
   "cell_type": "code",
   "execution_count": 215,
   "id": "18be9a36",
   "metadata": {},
   "outputs": [
    {
     "data": {
      "text/html": [
       "<style>#sk-container-id-3 {\n",
       "  /* Definition of color scheme common for light and dark mode */\n",
       "  --sklearn-color-text: #000;\n",
       "  --sklearn-color-text-muted: #666;\n",
       "  --sklearn-color-line: gray;\n",
       "  /* Definition of color scheme for unfitted estimators */\n",
       "  --sklearn-color-unfitted-level-0: #fff5e6;\n",
       "  --sklearn-color-unfitted-level-1: #f6e4d2;\n",
       "  --sklearn-color-unfitted-level-2: #ffe0b3;\n",
       "  --sklearn-color-unfitted-level-3: chocolate;\n",
       "  /* Definition of color scheme for fitted estimators */\n",
       "  --sklearn-color-fitted-level-0: #f0f8ff;\n",
       "  --sklearn-color-fitted-level-1: #d4ebff;\n",
       "  --sklearn-color-fitted-level-2: #b3dbfd;\n",
       "  --sklearn-color-fitted-level-3: cornflowerblue;\n",
       "\n",
       "  /* Specific color for light theme */\n",
       "  --sklearn-color-text-on-default-background: var(--sg-text-color, var(--theme-code-foreground, var(--jp-content-font-color1, black)));\n",
       "  --sklearn-color-background: var(--sg-background-color, var(--theme-background, var(--jp-layout-color0, white)));\n",
       "  --sklearn-color-border-box: var(--sg-text-color, var(--theme-code-foreground, var(--jp-content-font-color1, black)));\n",
       "  --sklearn-color-icon: #696969;\n",
       "\n",
       "  @media (prefers-color-scheme: dark) {\n",
       "    /* Redefinition of color scheme for dark theme */\n",
       "    --sklearn-color-text-on-default-background: var(--sg-text-color, var(--theme-code-foreground, var(--jp-content-font-color1, white)));\n",
       "    --sklearn-color-background: var(--sg-background-color, var(--theme-background, var(--jp-layout-color0, #111)));\n",
       "    --sklearn-color-border-box: var(--sg-text-color, var(--theme-code-foreground, var(--jp-content-font-color1, white)));\n",
       "    --sklearn-color-icon: #878787;\n",
       "  }\n",
       "}\n",
       "\n",
       "#sk-container-id-3 {\n",
       "  color: var(--sklearn-color-text);\n",
       "}\n",
       "\n",
       "#sk-container-id-3 pre {\n",
       "  padding: 0;\n",
       "}\n",
       "\n",
       "#sk-container-id-3 input.sk-hidden--visually {\n",
       "  border: 0;\n",
       "  clip: rect(1px 1px 1px 1px);\n",
       "  clip: rect(1px, 1px, 1px, 1px);\n",
       "  height: 1px;\n",
       "  margin: -1px;\n",
       "  overflow: hidden;\n",
       "  padding: 0;\n",
       "  position: absolute;\n",
       "  width: 1px;\n",
       "}\n",
       "\n",
       "#sk-container-id-3 div.sk-dashed-wrapped {\n",
       "  border: 1px dashed var(--sklearn-color-line);\n",
       "  margin: 0 0.4em 0.5em 0.4em;\n",
       "  box-sizing: border-box;\n",
       "  padding-bottom: 0.4em;\n",
       "  background-color: var(--sklearn-color-background);\n",
       "}\n",
       "\n",
       "#sk-container-id-3 div.sk-container {\n",
       "  /* jupyter's `normalize.less` sets `[hidden] { display: none; }`\n",
       "     but bootstrap.min.css set `[hidden] { display: none !important; }`\n",
       "     so we also need the `!important` here to be able to override the\n",
       "     default hidden behavior on the sphinx rendered scikit-learn.org.\n",
       "     See: https://github.com/scikit-learn/scikit-learn/issues/21755 */\n",
       "  display: inline-block !important;\n",
       "  position: relative;\n",
       "}\n",
       "\n",
       "#sk-container-id-3 div.sk-text-repr-fallback {\n",
       "  display: none;\n",
       "}\n",
       "\n",
       "div.sk-parallel-item,\n",
       "div.sk-serial,\n",
       "div.sk-item {\n",
       "  /* draw centered vertical line to link estimators */\n",
       "  background-image: linear-gradient(var(--sklearn-color-text-on-default-background), var(--sklearn-color-text-on-default-background));\n",
       "  background-size: 2px 100%;\n",
       "  background-repeat: no-repeat;\n",
       "  background-position: center center;\n",
       "}\n",
       "\n",
       "/* Parallel-specific style estimator block */\n",
       "\n",
       "#sk-container-id-3 div.sk-parallel-item::after {\n",
       "  content: \"\";\n",
       "  width: 100%;\n",
       "  border-bottom: 2px solid var(--sklearn-color-text-on-default-background);\n",
       "  flex-grow: 1;\n",
       "}\n",
       "\n",
       "#sk-container-id-3 div.sk-parallel {\n",
       "  display: flex;\n",
       "  align-items: stretch;\n",
       "  justify-content: center;\n",
       "  background-color: var(--sklearn-color-background);\n",
       "  position: relative;\n",
       "}\n",
       "\n",
       "#sk-container-id-3 div.sk-parallel-item {\n",
       "  display: flex;\n",
       "  flex-direction: column;\n",
       "}\n",
       "\n",
       "#sk-container-id-3 div.sk-parallel-item:first-child::after {\n",
       "  align-self: flex-end;\n",
       "  width: 50%;\n",
       "}\n",
       "\n",
       "#sk-container-id-3 div.sk-parallel-item:last-child::after {\n",
       "  align-self: flex-start;\n",
       "  width: 50%;\n",
       "}\n",
       "\n",
       "#sk-container-id-3 div.sk-parallel-item:only-child::after {\n",
       "  width: 0;\n",
       "}\n",
       "\n",
       "/* Serial-specific style estimator block */\n",
       "\n",
       "#sk-container-id-3 div.sk-serial {\n",
       "  display: flex;\n",
       "  flex-direction: column;\n",
       "  align-items: center;\n",
       "  background-color: var(--sklearn-color-background);\n",
       "  padding-right: 1em;\n",
       "  padding-left: 1em;\n",
       "}\n",
       "\n",
       "\n",
       "/* Toggleable style: style used for estimator/Pipeline/ColumnTransformer box that is\n",
       "clickable and can be expanded/collapsed.\n",
       "- Pipeline and ColumnTransformer use this feature and define the default style\n",
       "- Estimators will overwrite some part of the style using the `sk-estimator` class\n",
       "*/\n",
       "\n",
       "/* Pipeline and ColumnTransformer style (default) */\n",
       "\n",
       "#sk-container-id-3 div.sk-toggleable {\n",
       "  /* Default theme specific background. It is overwritten whether we have a\n",
       "  specific estimator or a Pipeline/ColumnTransformer */\n",
       "  background-color: var(--sklearn-color-background);\n",
       "}\n",
       "\n",
       "/* Toggleable label */\n",
       "#sk-container-id-3 label.sk-toggleable__label {\n",
       "  cursor: pointer;\n",
       "  display: flex;\n",
       "  width: 100%;\n",
       "  margin-bottom: 0;\n",
       "  padding: 0.5em;\n",
       "  box-sizing: border-box;\n",
       "  text-align: center;\n",
       "  align-items: start;\n",
       "  justify-content: space-between;\n",
       "  gap: 0.5em;\n",
       "}\n",
       "\n",
       "#sk-container-id-3 label.sk-toggleable__label .caption {\n",
       "  font-size: 0.6rem;\n",
       "  font-weight: lighter;\n",
       "  color: var(--sklearn-color-text-muted);\n",
       "}\n",
       "\n",
       "#sk-container-id-3 label.sk-toggleable__label-arrow:before {\n",
       "  /* Arrow on the left of the label */\n",
       "  content: \"▸\";\n",
       "  float: left;\n",
       "  margin-right: 0.25em;\n",
       "  color: var(--sklearn-color-icon);\n",
       "}\n",
       "\n",
       "#sk-container-id-3 label.sk-toggleable__label-arrow:hover:before {\n",
       "  color: var(--sklearn-color-text);\n",
       "}\n",
       "\n",
       "/* Toggleable content - dropdown */\n",
       "\n",
       "#sk-container-id-3 div.sk-toggleable__content {\n",
       "  max-height: 0;\n",
       "  max-width: 0;\n",
       "  overflow: hidden;\n",
       "  text-align: left;\n",
       "  /* unfitted */\n",
       "  background-color: var(--sklearn-color-unfitted-level-0);\n",
       "}\n",
       "\n",
       "#sk-container-id-3 div.sk-toggleable__content.fitted {\n",
       "  /* fitted */\n",
       "  background-color: var(--sklearn-color-fitted-level-0);\n",
       "}\n",
       "\n",
       "#sk-container-id-3 div.sk-toggleable__content pre {\n",
       "  margin: 0.2em;\n",
       "  border-radius: 0.25em;\n",
       "  color: var(--sklearn-color-text);\n",
       "  /* unfitted */\n",
       "  background-color: var(--sklearn-color-unfitted-level-0);\n",
       "}\n",
       "\n",
       "#sk-container-id-3 div.sk-toggleable__content.fitted pre {\n",
       "  /* unfitted */\n",
       "  background-color: var(--sklearn-color-fitted-level-0);\n",
       "}\n",
       "\n",
       "#sk-container-id-3 input.sk-toggleable__control:checked~div.sk-toggleable__content {\n",
       "  /* Expand drop-down */\n",
       "  max-height: 200px;\n",
       "  max-width: 100%;\n",
       "  overflow: auto;\n",
       "}\n",
       "\n",
       "#sk-container-id-3 input.sk-toggleable__control:checked~label.sk-toggleable__label-arrow:before {\n",
       "  content: \"▾\";\n",
       "}\n",
       "\n",
       "/* Pipeline/ColumnTransformer-specific style */\n",
       "\n",
       "#sk-container-id-3 div.sk-label input.sk-toggleable__control:checked~label.sk-toggleable__label {\n",
       "  color: var(--sklearn-color-text);\n",
       "  background-color: var(--sklearn-color-unfitted-level-2);\n",
       "}\n",
       "\n",
       "#sk-container-id-3 div.sk-label.fitted input.sk-toggleable__control:checked~label.sk-toggleable__label {\n",
       "  background-color: var(--sklearn-color-fitted-level-2);\n",
       "}\n",
       "\n",
       "/* Estimator-specific style */\n",
       "\n",
       "/* Colorize estimator box */\n",
       "#sk-container-id-3 div.sk-estimator input.sk-toggleable__control:checked~label.sk-toggleable__label {\n",
       "  /* unfitted */\n",
       "  background-color: var(--sklearn-color-unfitted-level-2);\n",
       "}\n",
       "\n",
       "#sk-container-id-3 div.sk-estimator.fitted input.sk-toggleable__control:checked~label.sk-toggleable__label {\n",
       "  /* fitted */\n",
       "  background-color: var(--sklearn-color-fitted-level-2);\n",
       "}\n",
       "\n",
       "#sk-container-id-3 div.sk-label label.sk-toggleable__label,\n",
       "#sk-container-id-3 div.sk-label label {\n",
       "  /* The background is the default theme color */\n",
       "  color: var(--sklearn-color-text-on-default-background);\n",
       "}\n",
       "\n",
       "/* On hover, darken the color of the background */\n",
       "#sk-container-id-3 div.sk-label:hover label.sk-toggleable__label {\n",
       "  color: var(--sklearn-color-text);\n",
       "  background-color: var(--sklearn-color-unfitted-level-2);\n",
       "}\n",
       "\n",
       "/* Label box, darken color on hover, fitted */\n",
       "#sk-container-id-3 div.sk-label.fitted:hover label.sk-toggleable__label.fitted {\n",
       "  color: var(--sklearn-color-text);\n",
       "  background-color: var(--sklearn-color-fitted-level-2);\n",
       "}\n",
       "\n",
       "/* Estimator label */\n",
       "\n",
       "#sk-container-id-3 div.sk-label label {\n",
       "  font-family: monospace;\n",
       "  font-weight: bold;\n",
       "  display: inline-block;\n",
       "  line-height: 1.2em;\n",
       "}\n",
       "\n",
       "#sk-container-id-3 div.sk-label-container {\n",
       "  text-align: center;\n",
       "}\n",
       "\n",
       "/* Estimator-specific */\n",
       "#sk-container-id-3 div.sk-estimator {\n",
       "  font-family: monospace;\n",
       "  border: 1px dotted var(--sklearn-color-border-box);\n",
       "  border-radius: 0.25em;\n",
       "  box-sizing: border-box;\n",
       "  margin-bottom: 0.5em;\n",
       "  /* unfitted */\n",
       "  background-color: var(--sklearn-color-unfitted-level-0);\n",
       "}\n",
       "\n",
       "#sk-container-id-3 div.sk-estimator.fitted {\n",
       "  /* fitted */\n",
       "  background-color: var(--sklearn-color-fitted-level-0);\n",
       "}\n",
       "\n",
       "/* on hover */\n",
       "#sk-container-id-3 div.sk-estimator:hover {\n",
       "  /* unfitted */\n",
       "  background-color: var(--sklearn-color-unfitted-level-2);\n",
       "}\n",
       "\n",
       "#sk-container-id-3 div.sk-estimator.fitted:hover {\n",
       "  /* fitted */\n",
       "  background-color: var(--sklearn-color-fitted-level-2);\n",
       "}\n",
       "\n",
       "/* Specification for estimator info (e.g. \"i\" and \"?\") */\n",
       "\n",
       "/* Common style for \"i\" and \"?\" */\n",
       "\n",
       ".sk-estimator-doc-link,\n",
       "a:link.sk-estimator-doc-link,\n",
       "a:visited.sk-estimator-doc-link {\n",
       "  float: right;\n",
       "  font-size: smaller;\n",
       "  line-height: 1em;\n",
       "  font-family: monospace;\n",
       "  background-color: var(--sklearn-color-background);\n",
       "  border-radius: 1em;\n",
       "  height: 1em;\n",
       "  width: 1em;\n",
       "  text-decoration: none !important;\n",
       "  margin-left: 0.5em;\n",
       "  text-align: center;\n",
       "  /* unfitted */\n",
       "  border: var(--sklearn-color-unfitted-level-1) 1pt solid;\n",
       "  color: var(--sklearn-color-unfitted-level-1);\n",
       "}\n",
       "\n",
       ".sk-estimator-doc-link.fitted,\n",
       "a:link.sk-estimator-doc-link.fitted,\n",
       "a:visited.sk-estimator-doc-link.fitted {\n",
       "  /* fitted */\n",
       "  border: var(--sklearn-color-fitted-level-1) 1pt solid;\n",
       "  color: var(--sklearn-color-fitted-level-1);\n",
       "}\n",
       "\n",
       "/* On hover */\n",
       "div.sk-estimator:hover .sk-estimator-doc-link:hover,\n",
       ".sk-estimator-doc-link:hover,\n",
       "div.sk-label-container:hover .sk-estimator-doc-link:hover,\n",
       ".sk-estimator-doc-link:hover {\n",
       "  /* unfitted */\n",
       "  background-color: var(--sklearn-color-unfitted-level-3);\n",
       "  color: var(--sklearn-color-background);\n",
       "  text-decoration: none;\n",
       "}\n",
       "\n",
       "div.sk-estimator.fitted:hover .sk-estimator-doc-link.fitted:hover,\n",
       ".sk-estimator-doc-link.fitted:hover,\n",
       "div.sk-label-container:hover .sk-estimator-doc-link.fitted:hover,\n",
       ".sk-estimator-doc-link.fitted:hover {\n",
       "  /* fitted */\n",
       "  background-color: var(--sklearn-color-fitted-level-3);\n",
       "  color: var(--sklearn-color-background);\n",
       "  text-decoration: none;\n",
       "}\n",
       "\n",
       "/* Span, style for the box shown on hovering the info icon */\n",
       ".sk-estimator-doc-link span {\n",
       "  display: none;\n",
       "  z-index: 9999;\n",
       "  position: relative;\n",
       "  font-weight: normal;\n",
       "  right: .2ex;\n",
       "  padding: .5ex;\n",
       "  margin: .5ex;\n",
       "  width: min-content;\n",
       "  min-width: 20ex;\n",
       "  max-width: 50ex;\n",
       "  color: var(--sklearn-color-text);\n",
       "  box-shadow: 2pt 2pt 4pt #999;\n",
       "  /* unfitted */\n",
       "  background: var(--sklearn-color-unfitted-level-0);\n",
       "  border: .5pt solid var(--sklearn-color-unfitted-level-3);\n",
       "}\n",
       "\n",
       ".sk-estimator-doc-link.fitted span {\n",
       "  /* fitted */\n",
       "  background: var(--sklearn-color-fitted-level-0);\n",
       "  border: var(--sklearn-color-fitted-level-3);\n",
       "}\n",
       "\n",
       ".sk-estimator-doc-link:hover span {\n",
       "  display: block;\n",
       "}\n",
       "\n",
       "/* \"?\"-specific style due to the `<a>` HTML tag */\n",
       "\n",
       "#sk-container-id-3 a.estimator_doc_link {\n",
       "  float: right;\n",
       "  font-size: 1rem;\n",
       "  line-height: 1em;\n",
       "  font-family: monospace;\n",
       "  background-color: var(--sklearn-color-background);\n",
       "  border-radius: 1rem;\n",
       "  height: 1rem;\n",
       "  width: 1rem;\n",
       "  text-decoration: none;\n",
       "  /* unfitted */\n",
       "  color: var(--sklearn-color-unfitted-level-1);\n",
       "  border: var(--sklearn-color-unfitted-level-1) 1pt solid;\n",
       "}\n",
       "\n",
       "#sk-container-id-3 a.estimator_doc_link.fitted {\n",
       "  /* fitted */\n",
       "  border: var(--sklearn-color-fitted-level-1) 1pt solid;\n",
       "  color: var(--sklearn-color-fitted-level-1);\n",
       "}\n",
       "\n",
       "/* On hover */\n",
       "#sk-container-id-3 a.estimator_doc_link:hover {\n",
       "  /* unfitted */\n",
       "  background-color: var(--sklearn-color-unfitted-level-3);\n",
       "  color: var(--sklearn-color-background);\n",
       "  text-decoration: none;\n",
       "}\n",
       "\n",
       "#sk-container-id-3 a.estimator_doc_link.fitted:hover {\n",
       "  /* fitted */\n",
       "  background-color: var(--sklearn-color-fitted-level-3);\n",
       "}\n",
       "</style><div id=\"sk-container-id-3\" class=\"sk-top-container\"><div class=\"sk-text-repr-fallback\"><pre>DecisionTreeClassifier()</pre><b>In a Jupyter environment, please rerun this cell to show the HTML representation or trust the notebook. <br />On GitHub, the HTML representation is unable to render, please try loading this page with nbviewer.org.</b></div><div class=\"sk-container\" hidden><div class=\"sk-item\"><div class=\"sk-estimator fitted sk-toggleable\"><input class=\"sk-toggleable__control sk-hidden--visually\" id=\"sk-estimator-id-3\" type=\"checkbox\" checked><label for=\"sk-estimator-id-3\" class=\"sk-toggleable__label fitted sk-toggleable__label-arrow\"><div><div>DecisionTreeClassifier</div></div><div><a class=\"sk-estimator-doc-link fitted\" rel=\"noreferrer\" target=\"_blank\" href=\"https://scikit-learn.org/1.6/modules/generated/sklearn.tree.DecisionTreeClassifier.html\">?<span>Documentation for DecisionTreeClassifier</span></a><span class=\"sk-estimator-doc-link fitted\">i<span>Fitted</span></span></div></label><div class=\"sk-toggleable__content fitted\"><pre>DecisionTreeClassifier()</pre></div> </div></div></div></div>"
      ],
      "text/plain": [
       "DecisionTreeClassifier()"
      ]
     },
     "execution_count": 215,
     "metadata": {},
     "output_type": "execute_result"
    }
   ],
   "source": [
    "dtc=DecisionTreeClassifier()\n",
    "dtc.fit(X_train,y_train)"
   ]
  },
  {
   "cell_type": "code",
   "execution_count": 216,
   "id": "f7e26517",
   "metadata": {},
   "outputs": [
    {
     "data": {
      "text/plain": [
       "0.99"
      ]
     },
     "execution_count": 216,
     "metadata": {},
     "output_type": "execute_result"
    }
   ],
   "source": [
    "dtc.score(X_test,y_test)"
   ]
  },
  {
   "cell_type": "code",
   "execution_count": 217,
   "id": "d896f9bb",
   "metadata": {},
   "outputs": [
    {
     "data": {
      "text/plain": [
       "array([0.98666667, 0.98666667, 0.98333333, 0.97666667, 0.98666667])"
      ]
     },
     "execution_count": 217,
     "metadata": {},
     "output_type": "execute_result"
    }
   ],
   "source": [
    "from sklearn.model_selection import ShuffleSplit\n",
    "from sklearn.model_selection import cross_val_score\n",
    "cv=ShuffleSplit(n_splits=5,test_size=0.3,random_state=42)\n",
    "cvs=cross_val_score(dtc, X, y, cv=cv)\n",
    "cvs"
   ]
  },
  {
   "cell_type": "code",
   "execution_count": 219,
   "id": "df1a8c65",
   "metadata": {},
   "outputs": [],
   "source": [
    "y_pred=dtc.predict(X_test)"
   ]
  },
  {
   "cell_type": "code",
   "execution_count": 224,
   "id": "fbafac31",
   "metadata": {},
   "outputs": [],
   "source": [
    "from sklearn.metrics import confusion_matrix\n",
    "cf=confusion_matrix(y_pred,y_test)\n"
   ]
  },
  {
   "cell_type": "code",
   "execution_count": 227,
   "id": "4cab344c",
   "metadata": {},
   "outputs": [
    {
     "data": {
      "text/plain": [
       "array([[ 35,   0,   2],\n",
       "       [  0,  10,   0],\n",
       "       [  1,   0, 252]])"
      ]
     },
     "execution_count": 227,
     "metadata": {},
     "output_type": "execute_result"
    }
   ],
   "source": [
    "cf"
   ]
  },
  {
   "cell_type": "code",
   "execution_count": 226,
   "id": "b03068e9",
   "metadata": {},
   "outputs": [
    {
     "data": {
      "text/plain": [
       "<Axes: >"
      ]
     },
     "execution_count": 226,
     "metadata": {},
     "output_type": "execute_result"
    },
    {
     "data": {
      "image/png": "[encoded data removed]",
      "text/plain": [
       "<Figure size 640x480 with 2 Axes>"
      ]
     },
     "metadata": {},
     "output_type": "display_data"
    }
   ],
   "source": [
    "sns.heatmap(cf,annot=True)"
   ]
  }
 ],
 "metadata": {
  "kernelspec": {
   "display_name": "Python 3",
   "language": "python",
   "name": "python3"
  },
  "language_info": {
   "codemirror_mode": {
    "name": "ipython",
    "version": 3
   },
   "file_extension": ".py",
   "mimetype": "text/x-python",
   "name": "python",
   "nbconvert_exporter": "python",
   "pygments_lexer": "ipython3",
   "version": "3.12.6"
  }
 },
 "nbformat": 4,
 "nbformat_minor": 5
}
